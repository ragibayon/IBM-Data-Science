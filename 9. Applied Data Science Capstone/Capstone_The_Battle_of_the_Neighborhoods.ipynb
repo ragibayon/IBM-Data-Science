{
  "nbformat": 4,
  "nbformat_minor": 0,
  "metadata": {
    "kernelspec": {
      "display_name": "Python 3.5",
      "name": "python3",
      "language": "python"
    },
    "language_info": {
      "mimetype": "text/x-python",
      "nbconvert_exporter": "python",
      "version": "3.5.5",
      "name": "python",
      "file_extension": ".py",
      "pygments_lexer": "ipython3",
      "codemirror_mode": {
        "version": 3,
        "name": "ipython"
      }
    },
    "colab": {
      "name": "Capstone_The-Battle-of-the-Neighborhoods.ipynb",
      "provenance": [],
      "collapsed_sections": [],
      "include_colab_link": true
    }
  },
  "cells": [
    {
      "cell_type": "markdown",
      "metadata": {
        "id": "view-in-github",
        "colab_type": "text"
      },
      "source": [
        "<a href=\"https://colab.research.google.com/github/ragibayon/Coursera_Capstone/blob/master/Capstone_The_Battle_of_the_Neighborhoods.ipynb\" target=\"_parent\"><img src=\"https://colab.research.google.com/assets/colab-badge.svg\" alt=\"Open In Colab\"/></a>"
      ]
    },
    {
      "cell_type": "markdown",
      "metadata": {
        "collapsed": true,
        "id": "jBNxPSfVG63_",
        "colab_type": "text"
      },
      "source": [
        "# Capstone Project - The Battle of the Neighborhoods (Week 2)\n",
        "### Applied Data Science Capstone by IBM/Coursera"
      ]
    },
    {
      "cell_type": "markdown",
      "metadata": {
        "id": "FZCkDV-lG64E",
        "colab_type": "text"
      },
      "source": [
        "## Table of contents\n",
        "* [Introduction: Business Problem](#introduction)\n",
        "* [Data](#data)\n",
        "* [Methodology](#methodology)\n",
        "* [Analysis](#analysis)\n",
        "* [Results and Discussion](#results)\n",
        "* [Conclusion](#conclusion)"
      ]
    },
    {
      "cell_type": "markdown",
      "metadata": {
        "id": "CAWioNkEG64G",
        "colab_type": "text"
      },
      "source": [
        "\n",
        "\n",
        "## Introduction: Business Problem <a name=\"introduction\"></a>"
      ]
    },
    {
      "cell_type": "markdown",
      "metadata": {
        "id": "C6JYpslJG64H",
        "colab_type": "text"
      },
      "source": [
        "In this project we will try to suggest an optimal location for buying an appartment. Specifically, this report will be targeted to stakeholders interested in byuying  an **realstate** in **Dhaka Division**, Bangladesh.\n",
        "\n",
        "Since there are lots of areas in Dhaka we will try to detect **locations that are included only in Dhaka district**. We are also particularly interested in **areas with restaurants and malls in vicinity**. We would also prefer locations **as close to public transportation as possible**, assuming that first two conditions are met.\n",
        "\n",
        "We will use our data science powers to generate a few most promissing neighborhoods based on this criteria. Advantages of each area will then be clearly expressed so that best possible final location can be chosen by stakeholders."
      ]
    },
    {
      "cell_type": "markdown",
      "metadata": {
        "id": "oscu1e9EG64I",
        "colab_type": "text"
      },
      "source": [
        "## Data <a name=\"data\"></a>"
      ]
    },
    {
      "cell_type": "markdown",
      "metadata": {
        "id": "tIDW868dG64J",
        "colab_type": "text"
      },
      "source": [
        "Based on definition of our problem, factors that will influence our decission are:\n",
        "* numbers of existing venues in the neighborhood (any type of venues)\n",
        "* number of and distance to public transport in the neighborhood, if any\n",
        "* distance of neighborhood from resturents and shopping malls\n",
        "\n",
        "We decided to use the Sub-Office of postal service, to define our neighborhoods.\n",
        "\n",
        "Following data sources will be needed to extract/generate the required information:\n",
        "* The neighbourhood location will be determined by using **Geopy**\n",
        "* number of venues and their type and location in every neighborhood will be obtained using **Foursquare API**"
      ]
    },
    {
      "cell_type": "markdown",
      "metadata": {
        "id": "p3bvJAwgG64K",
        "colab_type": "text"
      },
      "source": [
        "### Neighborhood Candidates\n",
        "\n",
        "Let's create latitude & longitude coordinates for centroids of our candidate neighborhoods. First we need to scrape the Dhaka district's neighbourhood locations and data from this [link](https://en.wikipedia.org/wiki/List_of_postal_codes_in_Bangladesh) and then find the latitude & longitude of the neighborhoods, using specific, well known address and geopy."
      ]
    },
    {
      "cell_type": "markdown",
      "metadata": {
        "id": "q5WkjxMgLySQ",
        "colab_type": "text"
      },
      "source": [
        "**Import necessary Libraries**"
      ]
    },
    {
      "cell_type": "code",
      "metadata": {
        "id": "PootO1AvJ5fN",
        "colab_type": "code",
        "colab": {
          "base_uri": "https://localhost:8080/",
          "height": 34
        },
        "outputId": "13c6e305-5681-439b-c0de-1f5e1e11e486"
      },
      "source": [
        "import numpy as np # library to handle data in a vectorized manner\n",
        "import pandas as pd # library for data analsysis\n",
        "from pandas import json_normalize # tranform JSON file into a pandas dataframe\n",
        "pd.set_option('display.max_columns', None)\n",
        "pd.set_option('display.max_rows', None)\n",
        "\n",
        "import json # library to handle JSON files\n",
        "from geopy.geocoders import Nominatim # convert an address into latitude and longitude values\n",
        "import requests # library to handle requests\n",
        "\n",
        "\n",
        "# Matplotlib and associated plotting modules\n",
        "import matplotlib.cm as cm\n",
        "import matplotlib.pyplot as plt\n",
        "import matplotlib.colors as colors\n",
        "\n",
        "# import k-means from clustering stage\n",
        "from sklearn.cluster import KMeans\n",
        "from sklearn.datasets import make_blobs\n",
        "\n",
        "import folium # map rendering library\n",
        "from bs4 import BeautifulSoup # for web scraping\n",
        "import lxml\n",
        "print('Libraries imported.')"
      ],
      "execution_count": 98,
      "outputs": [
        {
          "output_type": "stream",
          "text": [
            "Libraries imported.\n"
          ],
          "name": "stdout"
        }
      ]
    },
    {
      "cell_type": "code",
      "metadata": {
        "id": "4kzr18t4G64L",
        "colab_type": "code",
        "colab": {}
      },
      "source": [
        ""
      ],
      "execution_count": 0,
      "outputs": []
    },
    {
      "cell_type": "markdown",
      "metadata": {
        "id": "9r6T7ZqMMOoG",
        "colab_type": "text"
      },
      "source": [
        "Web Scrape for obtainging neighourhoods of Dhaka division, Bangladesh."
      ]
    },
    {
      "cell_type": "code",
      "metadata": {
        "id": "wgeIM92TMasa",
        "colab_type": "code",
        "colab": {}
      },
      "source": [
        "url='https://en.wikipedia.org/wiki/List_of_postal_codes_in_Bangladesh'\n",
        "List_of_postal_codes_in_Bangladesh_request=requests.get(url).text\n",
        "List_of_postal_codes_in_Bangladesh_html=BeautifulSoup(List_of_postal_codes_in_Bangladesh_request,'html.parser')\n",
        "List_of_postal_codes_in_Bangladesh_tables=List_of_postal_codes_in_Bangladesh_html.find_all('table',class_=\"wikitable\")\n",
        "len(List_of_postal_codes_in_Bangladesh_tables) # 8 tables for 8 divisions\n",
        "Dhaka_division_table=List_of_postal_codes_in_Bangladesh_tables[0] # Dhaka Division"
      ],
      "execution_count": 0,
      "outputs": []
    },
    {
      "cell_type": "markdown",
      "metadata": {
        "id": "251bJ7aiMxhy",
        "colab_type": "text"
      },
      "source": [
        "The ***Dhaka_division_table*** contains the required table in HTML format. we need to extract the table and make a Pandas dataframe for further utilizing and modifying it. These fuctions stated bellow will convert ythe html format into pd dataframe"
      ]
    },
    {
      "cell_type": "code",
      "metadata": {
        "id": "BNh2D4plMvyT",
        "colab_type": "code",
        "colab": {}
      },
      "source": [
        "def get_table_headers(table):\n",
        "    \"\"\"Given a table soup, returns all the headers\"\"\"\n",
        "    headers = []\n",
        "    for th in table.find(\"tr\").find_all(\"th\"):\n",
        "        headers.append(th.text.strip())\n",
        "    return headers\n",
        "\n",
        "def get_table_rows(table):\n",
        "    \"\"\"Given a table, returns all its rows\"\"\"\n",
        "    rows = []\n",
        "    for tr in table.find_all(\"tr\")[1:]:\n",
        "        cells = []\n",
        "        # grab all td tags in this table row\n",
        "        tds = tr.find_all(\"td\")\n",
        "        if len(tds) == 0:\n",
        "            # if no td tags, search for th tags\n",
        "            # can be found especially in wikipedia tables below the table\n",
        "            ths = tr.find_all(\"th\")\n",
        "            for th in ths:\n",
        "                cells.append(th.text.strip())\n",
        "        else:\n",
        "            # use regular td tags\n",
        "            for td in tds:\n",
        "                cells.append(td.text.strip())\n",
        "        rows.append(cells)\n",
        "    return rows"
      ],
      "execution_count": 0,
      "outputs": []
    },
    {
      "cell_type": "code",
      "metadata": {
        "id": "oWLMYUGQNVB8",
        "colab_type": "code",
        "colab": {}
      },
      "source": [
        "headers=get_table_headers(Dhaka_division_table)\n",
        "rows=get_table_rows(Dhaka_division_table)\n",
        "\n",
        "Dhaka_division_postcode=pd.DataFrame(rows,columns=headers)\n",
        "Dhaka_division_postcode=Dhaka_division_postcode.rename(columns={'Post Code[1]':'Post Code'})\n",
        "Dhaka_district_postcode=Dhaka_division_postcode[Dhaka_division_postcode['District']=='Dhaka']"
      ],
      "execution_count": 0,
      "outputs": []
    },
    {
      "cell_type": "markdown",
      "metadata": {
        "id": "rHRFQcIKNuIO",
        "colab_type": "text"
      },
      "source": [
        "Now let's find the Latitude and Longitude of these areas so that we can extract nearby venues from Forsqure API. The following function will return a location data frame with neighborhood name and its geo graphical location"
      ]
    },
    {
      "cell_type": "code",
      "metadata": {
        "id": "OgHqRua7N47w",
        "colab_type": "code",
        "colab": {}
      },
      "source": [
        "def get_location(Thana,Post_code):\n",
        "    lat=[]\n",
        "    long=[]\n",
        "    Pcode=[]\n",
        "    geolocator = Nominatim(user_agent=\"to_explorer\",timeout=5)\n",
        "    for Thana, Post_code in zip(Thana,\n",
        "                                Post_code):\n",
        "        address = '{}, Dhaka {} , Bangladesh'.format(Thana,Post_code)\n",
        "        location = geolocator.geocode(address)\n",
        "        print(location)\n",
        "        if location==None:\n",
        "            latitude = np.nan\n",
        "            longitude = np.nan\n",
        "        else:\n",
        "            latitude = location.latitude\n",
        "            longitude = location.longitude\n",
        "        \n",
        "        lat.append(latitude)\n",
        "        long.append(longitude)\n",
        "        Pcode.append(Post_code)\n",
        "    location_df=pd.DataFrame({'Latitude': lat,'Longitude': long, 'Post Code':Pcode})\n",
        "    return location_df"
      ],
      "execution_count": 0,
      "outputs": []
    },
    {
      "cell_type": "code",
      "metadata": {
        "id": "Yk_zDiy5NkLs",
        "colab_type": "code",
        "colab": {
          "base_uri": "https://localhost:8080/",
          "height": 833
        },
        "outputId": "f72a29b2-a74c-4d0e-aacc-474dc9ae089b"
      },
      "source": [
        "location_df=get_location(Thana=Dhaka_district_postcode['Thana'],\n",
        "                         Post_code=Dhaka_district_postcode['Post Code'])"
      ],
      "execution_count": 28,
      "outputs": [
        {
          "output_type": "stream",
          "text": [
            "ঢাকা জেলা, ঢাকা বিভাগ, Bangladesh\n",
            "ধামরাই, ধামরাই উপজেলা, ঢাকা জেলা, ঢাকা বিভাগ, 1350, Bangladesh\n",
            "ধানমন্ডি আ/এ, ঢাকা, ঢাকা জেলা, ঢাকা বিভাগ, Bangladesh\n",
            "গুলশান, ঢাকা, ঢাকা জেলা, ঢাকা বিভাগ, Bangladesh\n",
            "গুলশান, ঢাকা, ঢাকা জেলা, ঢাকা বিভাগ, Bangladesh\n",
            "গুলশান, ঢাকা, ঢাকা জেলা, ঢাকা বিভাগ, Bangladesh\n",
            "যাত্রাবাড়ী, ঢাকা, ঢাকা জেলা, ঢাকা বিভাগ, 1236, Bangladesh\n",
            "joypara, দোহার, দোহার উপজেলা, ঢাকা জেলা, ঢাকা বিভাগ, 1330, Bangladesh\n",
            "joypara, দোহার, দোহার উপজেলা, ঢাকা জেলা, ঢাকা বিভাগ, 1330, Bangladesh\n",
            "joypara, দোহার, দোহার উপজেলা, ঢাকা জেলা, ঢাকা বিভাগ, 1330, Bangladesh\n",
            "কেরাণীগঞ্জ উপজেলা, ঢাকা জেলা, ঢাকা বিভাগ, Bangladesh\n",
            "কেরাণীগঞ্জ উপজেলা, ঢাকা জেলা, ঢাকা বিভাগ, Bangladesh\n",
            "কেরাণীগঞ্জ উপজেলা, ঢাকা জেলা, ঢাকা বিভাগ, Bangladesh\n",
            "কেরাণীগঞ্জ উপজেলা, ঢাকা জেলা, ঢাকা বিভাগ, Bangladesh\n",
            "Khilgaon Govt. Colony, শাহজাহানপুর, ঢাকা, ঢাকা জেলা, ঢাকা বিভাগ, Bangladesh\n",
            "KHILKHET, বাড্ডা, ঢাকা, ঢাকা জেলা, ঢাকা বিভাগ, 1229, Bangladesh\n",
            "Lalbag Fort, শায়েস্তা খান সড়ক, নূরবাগ, বাবু বাজার, ঢাকা, ঢাকা জেলা, ঢাকা বিভাগ, 1211, Bangladesh\n",
            "মিরপুর, ঢাকা, ঢাকা জেলা, ঢাকা বিভাগ, DHAKA-1216, Bangladesh\n",
            "মোহাম্মদপুর, ঢাকা জেলা, ঢাকা বিভাগ, 1207, Bangladesh\n",
            "মোহাম্মদপুর, ঢাকা জেলা, ঢাকা বিভাগ, Bangladesh\n",
            "মতিঝিল, কমলাপুর, ঢাকা, ঢাকা জেলা, ঢাকা বিভাগ, ১০০০, Bangladesh\n",
            "মতিঝিল, কমলাপুর, ঢাকা, ঢাকা জেলা, ঢাকা বিভাগ, ১০০০, Bangladesh\n",
            "নবাবগঞ্জ, নবাবগঞ্জ উপজেলা, ঢাকা জেলা, ঢাকা বিভাগ, DHAKA-1320, Bangladesh\n",
            "নবাবগঞ্জ, নবাবগঞ্জ উপজেলা, ঢাকা জেলা, ঢাকা বিভাগ, DHAKA-1320, Bangladesh\n",
            "নবাবগঞ্জ, নবাবগঞ্জ উপজেলা, ঢাকা জেলা, ঢাকা বিভাগ, DHAKA-1320, Bangladesh\n",
            "নবাবগঞ্জ, নবাবগঞ্জ উপজেলা, ঢাকা জেলা, ঢাকা বিভাগ, DHAKA-1320, Bangladesh\n",
            "নবাবগঞ্জ, নবাবগঞ্জ উপজেলা, ঢাকা জেলা, ঢাকা বিভাগ, DHAKA-1320, Bangladesh\n",
            "নবাবগঞ্জ, নবাবগঞ্জ উপজেলা, ঢাকা জেলা, ঢাকা বিভাগ, DHAKA-1320, Bangladesh\n",
            "None\n",
            "None\n",
            "Ramna Century Anenue, ওয়ারলেস, শাহজাহানপুর, ঢাকা, ঢাকা জেলা, ঢাকা বিভাগ, 1217, Bangladesh\n",
            "সবুজবাগ পুলিশ স্টেশন, 202, মধ্য বাসাবো, শাহজাহানপুর, ঢাকা, ঢাকা জেলা, ঢাকা বিভাগ, 1214, Bangladesh\n",
            "সাভার, সাভার উপজেলা, ঢাকা জেলা, ঢাকা বিভাগ, 1340, Bangladesh\n",
            "সাভার, সাভার উপজেলা, ঢাকা জেলা, ঢাকা বিভাগ, 1340, Bangladesh\n",
            "সাভার, সাভার উপজেলা, ঢাকা জেলা, ঢাকা বিভাগ, 1340, Bangladesh\n",
            "সাভার, সাভার উপজেলা, ঢাকা জেলা, ঢাকা বিভাগ, 1340, Bangladesh\n",
            "সাভার, সাভার উপজেলা, ঢাকা জেলা, ঢাকা বিভাগ, 1340, Bangladesh\n",
            "সাভার, সাভার উপজেলা, ঢাকা জেলা, ঢাকা বিভাগ, 1340, Bangladesh\n",
            "সাভার, সাভার উপজেলা, ঢাকা জেলা, ঢাকা বিভাগ, 1340, Bangladesh\n",
            "সাভার, সাভার উপজেলা, ঢাকা জেলা, ঢাকা বিভাগ, 1340, Bangladesh\n",
            "সাভার, সাভার উপজেলা, ঢাকা জেলা, ঢাকা বিভাগ, 1340, Bangladesh\n",
            "সাভার, সাভার উপজেলা, ঢাকা জেলা, ঢাকা বিভাগ, 1340, Bangladesh\n",
            "সূত্রাপুর, গাজীপুর জেলা, ঢাকা বিভাগ, 1950, Bangladesh\n",
            "সূত্রাপুর, ঢাকা, ঢাকা জেলা, ঢাকা বিভাগ, 1204, Bangladesh\n",
            "সূত্রাপুর, গাজীপুর জেলা, ঢাকা বিভাগ, 1950, Bangladesh\n",
            "তেজগাঁও, বেগম রোকেয়া সরণী, পশ্চিম নাখালপাড়া, শের-ই-বাংলা নগর, ঢাকা, ঢাকা জেলা, ঢাকা বিভাগ, 1215, Bangladesh\n",
            "None\n",
            "উত্তরা, ঢাকা, ঢাকা জেলা, ঢাকা বিভাগ, 1276, Bangladesh\n"
          ],
          "name": "stdout"
        }
      ]
    },
    {
      "cell_type": "markdown",
      "metadata": {
        "id": "NJ7O3K7AOi1v",
        "colab_type": "text"
      },
      "source": [
        "Now let's merge the District post code data with the location dataframe and drop missing values."
      ]
    },
    {
      "cell_type": "code",
      "metadata": {
        "id": "-2KArYtYOgq6",
        "colab_type": "code",
        "colab": {}
      },
      "source": [
        "Dhaka_loc=Dhaka_district_postcode.merge(location_df,on='Post Code')   \n",
        "Dhaka_loc.dropna(axis=0,inplace=True)\n",
        "Dhaka_loc.reset_index(inplace=True)\n",
        "Dhaka_loc.drop('index',axis=1,inplace=True)"
      ],
      "execution_count": 0,
      "outputs": []
    },
    {
      "cell_type": "markdown",
      "metadata": {
        "id": "arbXgwrWO1N2",
        "colab_type": "text"
      },
      "source": [
        "After dropping the missing values lets save the dataframe into a csv file for further reasearch."
      ]
    },
    {
      "cell_type": "code",
      "metadata": {
        "id": "6saCzexnOyyf",
        "colab_type": "code",
        "colab": {
          "base_uri": "https://localhost:8080/",
          "height": 34
        },
        "outputId": "cf887092-5618-4401-ced0-22ac7f11e327"
      },
      "source": [
        "Dhaka_loc.to_csv('Dhaka_location.csv',index=False)"
      ],
      "execution_count": 31,
      "outputs": [
        {
          "output_type": "execute_result",
          "data": {
            "text/plain": [
              "(49, 6)"
            ]
          },
          "metadata": {
            "tags": []
          },
          "execution_count": 31
        }
      ]
    },
    {
      "cell_type": "markdown",
      "metadata": {
        "id": "P3z94Wd_PYi0",
        "colab_type": "text"
      },
      "source": [
        "Now lets map of Dhaka these Locations using folium to see it on the map. we have extracted locations for 48 neighborhoods within dhaka district"
      ]
    },
    {
      "cell_type": "code",
      "metadata": {
        "id": "Balsdp66Pd39",
        "colab_type": "code",
        "colab": {
          "base_uri": "https://localhost:8080/",
          "height": 763
        },
        "outputId": "f4425e43-a9d0-48d5-adc5-f81003a3bc9e"
      },
      "source": [
        "# create map of Dhaka using latitude and longitude values 23.8103° N, 90.4125° E\n",
        "Dhaka_Thana_map = folium.Map(location=[23.8103, 90.4125], zoom_start=12)\n",
        "\n",
        "# add markers to map\n",
        "for lat, lng, Thana, SubOffice in zip(Dhaka_loc['Latitude'], Dhaka_loc['Longitude'], Dhaka_loc['Thana'], Dhaka_loc['SubOffice']):\n",
        "    label = '{}, {}'.format(SubOffice, Thana)\n",
        "    label = folium.Popup(label, parse_html=True)\n",
        "    folium.CircleMarker(\n",
        "        [lat, lng],\n",
        "        radius=2,\n",
        "        popup=label,\n",
        "        color='blue',\n",
        "        fill=True,\n",
        "        fill_color='#3186cc',\n",
        "        fill_opacity=0.2,\n",
        "        parse_html=False).add_to(Dhaka_Thana_map)  \n",
        "    \n",
        "Dhaka_Thana_map"
      ],
      "execution_count": 32,
      "outputs": [
        {
          "output_type": "execute_result",
          "data": {
            "text/html": [
              "<div style=\"width:100%;\"><div style=\"position:relative;width:100%;height:0;padding-bottom:60%;\"><iframe src=\"about:blank\" style=\"position:absolute;width:100%;height:100%;left:0;top:0;border:none !important;\" data-html=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 onload=\"this.contentDocument.open();this.contentDocument.write(atob(this.getAttribute('data-html')));this.contentDocument.close();\" allowfullscreen webkitallowfullscreen mozallowfullscreen></iframe></div></div>"
            ],
            "text/plain": [
              "<folium.folium.Map at 0x7f072f31d5f8>"
            ]
          },
          "metadata": {
            "tags": []
          },
          "execution_count": 32
        }
      ]
    },
    {
      "cell_type": "markdown",
      "metadata": {
        "id": "CVG5H5bSG65W",
        "colab_type": "text"
      },
      "source": [
        "### Foursquare\n",
        "Now that we have our location candidates, let's use Foursquare API to get info on the nearby venues in each neighborhood and the following fucntion will return a data frame with venues for specific location."
      ]
    },
    {
      "cell_type": "code",
      "metadata": {
        "id": "ib9Vl9h_Tj5j",
        "colab_type": "code",
        "colab": {
          "base_uri": "https://localhost:8080/",
          "height": 68
        },
        "outputId": "47a33717-1558-428a-9c63-c541fc4f2e16"
      },
      "source": [
        "CLIENT_ID = 'JORL2P3TYVJZG3FFYUYNAA2TGKSRB1LX2TGMETEY103WJS4M' # your Foursquare ID\n",
        "CLIENT_SECRET = '43O11ZJVEDMQ11YNXPKJLXAP1PK1CECQMXCH13R0F0WPBJQI' # your Foursquare Secret\n",
        "VERSION = '20200401' # Foursquare API version\n",
        "\n",
        "print('Your credentails:')\n",
        "print('CLIENT_ID: ' + CLIENT_ID)\n",
        "print('CLIENT_SECRET:' + CLIENT_SECRET)\n",
        "\n",
        "def get_category_type(row):\n",
        "    try:\n",
        "        categories_list = row['categories']\n",
        "    except:\n",
        "        categories_list = row['venue.categories']\n",
        "        \n",
        "    if len(categories_list) == 0:\n",
        "        return None\n",
        "    else:\n",
        "        return categories_list[0]['name']\n",
        "\n",
        "def getNearbyVenues(names, latitudes, longitudes,search_query='Explore', radius=1500,LIMIT=200):\n",
        "    \n",
        "    venues_list=[]\n",
        "    # create the API request URL\n",
        "    for name, lat, lng in zip(names, latitudes, longitudes):\n",
        "        url = 'https://api.foursquare.com/v2/venues/explore?&client_id={}&client_secret={}&v={}&ll={},{}&radius={}&limit={}'.format(CLIENT_ID, CLIENT_SECRET, VERSION, lat, lng, radius, LIMIT)            \n",
        "        # make the GET request\n",
        "        results = requests.get(url).json()[\"response\"]['groups'][0]['items']        \n",
        "        # return only relevant information for each nearby venue\n",
        "        venues_list.append([(name, lat, lng, v['venue']['name'], v['venue']['location']['lat'], v['venue']['location']['lng'],  v['venue']['categories'][0]['name']) for v in results])\n",
        "\n",
        "    nearby_venues = pd.DataFrame([item for venue_list in venues_list for item in venue_list])\n",
        "    nearby_venues.columns = ['Neighborhood', 'Neighborhood Latitude', 'Neighborhood Longitude', 'Venue', 'Venue Latitude', 'Venue Longitude', 'Venue Category']\n",
        "    return(nearby_venues)"
      ],
      "execution_count": 61,
      "outputs": [
        {
          "output_type": "stream",
          "text": [
            "Your credentails:\n",
            "CLIENT_ID: JORL2P3TYVJZG3FFYUYNAA2TGKSRB1LX2TGMETEY103WJS4M\n",
            "CLIENT_SECRET:43O11ZJVEDMQ11YNXPKJLXAP1PK1CECQMXCH13R0F0WPBJQI\n"
          ],
          "name": "stdout"
        }
      ]
    },
    {
      "cell_type": "markdown",
      "metadata": {
        "id": "kM-HqfGFSXLZ",
        "colab_type": "text"
      },
      "source": [
        "Lets check for a single location first and then we can call for every other lcoations."
      ]
    },
    {
      "cell_type": "code",
      "metadata": {
        "id": "6yVc3skYVQT-",
        "colab_type": "code",
        "colab": {}
      },
      "source": [
        "name=Dhaka_loc['SubOffice'][33]\n",
        "lat=Dhaka_loc['Latitude'][33]\n",
        "lng=Dhaka_loc['Longitude'][33]\n",
        "radius=1500\n",
        "LIMIT=200\n",
        "\n",
        "url = 'https://api.foursquare.com/v2/venues/explore?&client_id={}&client_secret={}&v={}&ll={},{}&radius={}&limit={}'.format(CLIENT_ID, CLIENT_SECRET, VERSION, \n",
        "                                                                                                                            lat, lng, radius, LIMIT)\n",
        "results = requests.get(url).json()[\"response\"]['groups'][0]['items']    \n",
        "venues_list=[]    \n",
        "venues_list.append([(name, lat, lng, v['venue']['name'], v['venue']['location']['lat'], v['venue']['location']['lng'],  v['venue']['categories'][0]['name']) for v in results])\n",
        "columns=['Neighborhood', 'Neighborhood Latitude', 'Neighborhood Longitude', 'Venue', 'Venue Latitude', 'Venue Longitude', 'Venue Category']\n",
        "nearby_venues_basabo = pd.DataFrame([item for venue_list in venues_list for item in venue_list],columns=columns)\n",
        "nearby_venues_basabo.head()\n"
      ],
      "execution_count": 0,
      "outputs": []
    },
    {
      "cell_type": "code",
      "metadata": {
        "id": "uMv24hG6Skxw",
        "colab_type": "code",
        "colab": {}
      },
      "source": [
        "Dhaka_venues = getNearbyVenues(names=Dhaka_loc['SubOffice'],\n",
        "                                   latitudes=Dhaka_loc['Latitude'],\n",
        "                                   longitudes=Dhaka_loc['Longitude'],\n",
        "                                  )\n",
        "Dhaka_venues.to_csv('Dhaka_venues_200_1500',index=False)"
      ],
      "execution_count": 0,
      "outputs": []
    },
    {
      "cell_type": "markdown",
      "metadata": {
        "id": "lrQ1LilRaGZ_",
        "colab_type": "text"
      },
      "source": [
        "Lets count how many venues and unique categories "
      ]
    },
    {
      "cell_type": "code",
      "metadata": {
        "id": "1zGOAHZcULKD",
        "colab_type": "code",
        "colab": {
          "base_uri": "https://localhost:8080/",
          "height": 34
        },
        "outputId": "5d484376-951c-4ad5-d321-f36f44af976b"
      },
      "source": [
        "print('There are {} unique Venue categories. {} unique Venues {} unique neighbourhood.'.format(len(Dhaka_venues['Venue Category'].unique()),\n",
        "                                                len(Dhaka_venues['Venue'].unique()),\n",
        "                                                len(Dhaka_venues['Neighborhood'].unique())))"
      ],
      "execution_count": 66,
      "outputs": [
        {
          "output_type": "stream",
          "text": [
            "There are 94 unique Venue categories. 316 unique Venues 39 unique neighbourhood.\n"
          ],
          "name": "stdout"
        }
      ]
    },
    {
      "cell_type": "markdown",
      "metadata": {
        "id": "Ne04IJS4aXJ8",
        "colab_type": "text"
      },
      "source": [
        "now we will use One hot encoding to convert the categorical values to numerical values. and after that let's gropu the data according to the neighborhood and mean the data. so the data will have 94 attributes and 39 neighbors. the mean will be the frequency of the unique venue categories."
      ]
    },
    {
      "cell_type": "code",
      "metadata": {
        "id": "1JpewUyhasO4",
        "colab_type": "code",
        "colab": {
          "base_uri": "https://localhost:8080/",
          "height": 34
        },
        "outputId": "d770b16d-6b03-4bb6-f985-7805a401d3f1"
      },
      "source": [
        "# one hot encoding\n",
        "Dhaka_onehot = pd.get_dummies(Dhaka_venues[['Venue Category']], prefix=\"\", prefix_sep=\"\")\n",
        "\n",
        "# add neighborhood column back to dataframe\n",
        "Dhaka_onehot['Neighborhood'] = Dhaka_venues['Neighborhood'] \n",
        "\n",
        "# move neighborhood column to the first column\n",
        "fixed_columns = [Dhaka_onehot.columns[-1]] + list(Dhaka_onehot.columns[:-1])\n",
        "Dhaka_onehot = Dhaka_onehot[fixed_columns]\n",
        "\n",
        "Dhaka_grouped = Dhaka_onehot.groupby('Neighborhood').mean().reset_index()\n",
        "print('Shape of Dataset after one hot encoding:',Dhaka_onehot.shape,'Shape after grouping by neighbors:',Dhaka_grouped.shape)"
      ],
      "execution_count": 75,
      "outputs": [
        {
          "output_type": "stream",
          "text": [
            "Shape of Dataset after one hot encoding: (849, 95) Shape after grouping by neighbors: (39, 95)\n"
          ],
          "name": "stdout"
        }
      ]
    },
    {
      "cell_type": "markdown",
      "metadata": {
        "id": "mhf9PZ47d-ZX",
        "colab_type": "text"
      },
      "source": [
        "Now lets create a data set with n most common venue categories in the neighborhood."
      ]
    },
    {
      "cell_type": "code",
      "metadata": {
        "id": "MMVGjgVoctLz",
        "colab_type": "code",
        "colab": {
          "base_uri": "https://localhost:8080/",
          "height": 323
        },
        "outputId": "242f0011-04f6-4463-de96-d19224abc213"
      },
      "source": [
        "def return_most_common_venues(row, num_top_venues):\n",
        "    row_categories = row.iloc[1:]\n",
        "    row_categories_sorted = row_categories.sort_values(ascending=False)\n",
        "    \n",
        "    return row_categories_sorted.index.values[0:num_top_venues]\n",
        "\n",
        "num_top_venues=int(input('Input the number of most common items you want to consider:\\t'))\n",
        "\n",
        "#Create columns for the data set\n",
        "indicators = ['st', 'nd', 'rd']\n",
        "columns = ['Neighborhood']\n",
        "\n",
        "for ind in np.arange(num_top_venues):\n",
        "    try:\n",
        "        columns.append('{}{} Most Common Venue'.format(ind+1, indicators[ind]))\n",
        "    except:\n",
        "        columns.append('{}th Most Common Venue'.format(ind+1))\n",
        "\n",
        "# create a new dataframe\n",
        "\n",
        "neighborhoods_venues_sorted = pd.DataFrame(columns=columns)\n",
        "neighborhoods_venues_sorted['Neighborhood'] = Dhaka_grouped['Neighborhood']\n",
        "\n",
        "for ind in np.arange(Dhaka_grouped.shape[0]):\n",
        "    neighborhoods_venues_sorted.iloc[ind, 1:] = return_most_common_venues(Dhaka_grouped.iloc[ind, :], num_top_venues)\n",
        "\n",
        "\n",
        "neighborhoods_venues_sorted.head()"
      ],
      "execution_count": 77,
      "outputs": [
        {
          "output_type": "stream",
          "text": [
            "Input the number of most common items you want to consider:\t10\n"
          ],
          "name": "stdout"
        },
        {
          "output_type": "execute_result",
          "data": {
            "text/html": [
              "<div>\n",
              "<style scoped>\n",
              "    .dataframe tbody tr th:only-of-type {\n",
              "        vertical-align: middle;\n",
              "    }\n",
              "\n",
              "    .dataframe tbody tr th {\n",
              "        vertical-align: top;\n",
              "    }\n",
              "\n",
              "    .dataframe thead th {\n",
              "        text-align: right;\n",
              "    }\n",
              "</style>\n",
              "<table border=\"1\" class=\"dataframe\">\n",
              "  <thead>\n",
              "    <tr style=\"text-align: right;\">\n",
              "      <th></th>\n",
              "      <th>Neighborhood</th>\n",
              "      <th>1st Most Common Venue</th>\n",
              "      <th>2nd Most Common Venue</th>\n",
              "      <th>3rd Most Common Venue</th>\n",
              "      <th>4th Most Common Venue</th>\n",
              "      <th>5th Most Common Venue</th>\n",
              "      <th>6th Most Common Venue</th>\n",
              "      <th>7th Most Common Venue</th>\n",
              "      <th>8th Most Common Venue</th>\n",
              "      <th>9th Most Common Venue</th>\n",
              "      <th>10th Most Common Venue</th>\n",
              "    </tr>\n",
              "  </thead>\n",
              "  <tbody>\n",
              "    <tr>\n",
              "      <th>0</th>\n",
              "      <td>Amin Bazar</td>\n",
              "      <td>Shopping Mall</td>\n",
              "      <td>Bus Station</td>\n",
              "      <td>Market</td>\n",
              "      <td>Turkish Restaurant</td>\n",
              "      <td>Food</td>\n",
              "      <td>Cricket Ground</td>\n",
              "      <td>Dentist's Office</td>\n",
              "      <td>Department Store</td>\n",
              "      <td>Dessert Shop</td>\n",
              "      <td>Donut Shop</td>\n",
              "    </tr>\n",
              "    <tr>\n",
              "      <th>1</th>\n",
              "      <td>Ati</td>\n",
              "      <td>American Restaurant</td>\n",
              "      <td>Turkish Restaurant</td>\n",
              "      <td>Fried Chicken Joint</td>\n",
              "      <td>Cricket Ground</td>\n",
              "      <td>Dentist's Office</td>\n",
              "      <td>Department Store</td>\n",
              "      <td>Dessert Shop</td>\n",
              "      <td>Donut Shop</td>\n",
              "      <td>Electronics Store</td>\n",
              "      <td>Farmers Market</td>\n",
              "    </tr>\n",
              "    <tr>\n",
              "      <th>2</th>\n",
              "      <td>Badda</td>\n",
              "      <td>Café</td>\n",
              "      <td>Hotel</td>\n",
              "      <td>Coffee Shop</td>\n",
              "      <td>Korean Restaurant</td>\n",
              "      <td>Asian Restaurant</td>\n",
              "      <td>Fast Food Restaurant</td>\n",
              "      <td>Italian Restaurant</td>\n",
              "      <td>Indian Restaurant</td>\n",
              "      <td>Nightclub</td>\n",
              "      <td>Ice Cream Shop</td>\n",
              "    </tr>\n",
              "    <tr>\n",
              "      <th>3</th>\n",
              "      <td>Banani TSO</td>\n",
              "      <td>Café</td>\n",
              "      <td>Hotel</td>\n",
              "      <td>Coffee Shop</td>\n",
              "      <td>Korean Restaurant</td>\n",
              "      <td>Asian Restaurant</td>\n",
              "      <td>Fast Food Restaurant</td>\n",
              "      <td>Italian Restaurant</td>\n",
              "      <td>Indian Restaurant</td>\n",
              "      <td>Nightclub</td>\n",
              "      <td>Ice Cream Shop</td>\n",
              "    </tr>\n",
              "    <tr>\n",
              "      <th>4</th>\n",
              "      <td>BangabhabanTSO</td>\n",
              "      <td>Restaurant</td>\n",
              "      <td>Hotel</td>\n",
              "      <td>Plaza</td>\n",
              "      <td>Soccer Field</td>\n",
              "      <td>Train Station</td>\n",
              "      <td>Fried Chicken Joint</td>\n",
              "      <td>Cosmetics Shop</td>\n",
              "      <td>Clothing Store</td>\n",
              "      <td>Bus Station</td>\n",
              "      <td>Indian Restaurant</td>\n",
              "    </tr>\n",
              "  </tbody>\n",
              "</table>\n",
              "</div>"
            ],
            "text/plain": [
              "     Neighborhood 1st Most Common Venue 2nd Most Common Venue  \\\n",
              "0      Amin Bazar         Shopping Mall           Bus Station   \n",
              "1             Ati   American Restaurant    Turkish Restaurant   \n",
              "2           Badda                  Café                 Hotel   \n",
              "3      Banani TSO                  Café                 Hotel   \n",
              "4  BangabhabanTSO            Restaurant                 Hotel   \n",
              "\n",
              "  3rd Most Common Venue 4th Most Common Venue 5th Most Common Venue  \\\n",
              "0                Market    Turkish Restaurant                  Food   \n",
              "1   Fried Chicken Joint        Cricket Ground      Dentist's Office   \n",
              "2           Coffee Shop     Korean Restaurant      Asian Restaurant   \n",
              "3           Coffee Shop     Korean Restaurant      Asian Restaurant   \n",
              "4                 Plaza          Soccer Field         Train Station   \n",
              "\n",
              "  6th Most Common Venue 7th Most Common Venue 8th Most Common Venue  \\\n",
              "0        Cricket Ground      Dentist's Office      Department Store   \n",
              "1      Department Store          Dessert Shop            Donut Shop   \n",
              "2  Fast Food Restaurant    Italian Restaurant     Indian Restaurant   \n",
              "3  Fast Food Restaurant    Italian Restaurant     Indian Restaurant   \n",
              "4   Fried Chicken Joint        Cosmetics Shop        Clothing Store   \n",
              "\n",
              "  9th Most Common Venue 10th Most Common Venue  \n",
              "0          Dessert Shop             Donut Shop  \n",
              "1     Electronics Store         Farmers Market  \n",
              "2             Nightclub         Ice Cream Shop  \n",
              "3             Nightclub         Ice Cream Shop  \n",
              "4           Bus Station      Indian Restaurant  "
            ]
          },
          "metadata": {
            "tags": []
          },
          "execution_count": 77
        }
      ]
    },
    {
      "cell_type": "markdown",
      "metadata": {
        "id": "eU9XnW2vG66D",
        "colab_type": "text"
      },
      "source": [
        "Looking good. So now we have all the venues in area within 1.5 kilometers from the sub office or neighborhood. and we know which ones are the most frequent! \n",
        "\n",
        "This concludes the data gathering phase - we're now ready to use this data for analysis to produce the report on clustering the locations based on the similarity!"
      ]
    },
    {
      "cell_type": "markdown",
      "metadata": {
        "id": "6cv5v_W4G66E",
        "colab_type": "text"
      },
      "source": [
        "## Methodology <a name=\"methodology\"></a>"
      ]
    },
    {
      "cell_type": "markdown",
      "metadata": {
        "id": "JbMZl9hHG66F",
        "colab_type": "text"
      },
      "source": [
        "In this project we will direct our efforts on clustering similar areas of Dhaka \n",
        "\n",
        "In first step we have collected the required **data: location and type (category) of every venue within 1.5km from neighborhoods** (sub office). We have also **identified most common venues** (according to Foursquare categorization).\n",
        "\n",
        "Second step in our analysis will be calculation and exploration of '**similar venue density**' across different areas of Dhaka.\n",
        "\n",
        "In third and final step we will focus on most promising areas and within those create **clusters of locations that meet some basic requirements** . We will present map of all such locations but also create clusters (using **k-means clustering**) of those locations to identify  neighborhoods which should be a starting point for final 'street level' exploration and search for optimal venue location by stakeholders."
      ]
    },
    {
      "cell_type": "markdown",
      "metadata": {
        "id": "EtR_QNjUG66G",
        "colab_type": "text"
      },
      "source": [
        "## Analysis <a name=\"analysis\"></a>"
      ]
    },
    {
      "cell_type": "markdown",
      "metadata": {
        "id": "HY671XyaoMcx",
        "colab_type": "text"
      },
      "source": [
        "Ok now let's see how many cluster should be made or what should be the number of k in the dataset and for evaluation we took sum of squares error. and found that we should take 5 cluster so that the SSE remains low but the data set is not overly clustered."
      ]
    },
    {
      "cell_type": "code",
      "metadata": {
        "id": "74-5_EGhG66I",
        "colab_type": "code",
        "colab": {
          "base_uri": "https://localhost:8080/",
          "height": 421
        },
        "outputId": "c235c6ba-7c44-487c-8fcf-aa7acf95214a"
      },
      "source": [
        "Dhaka_grouped_clustering = Dhaka_grouped.drop(['Neighborhood'], axis=1)\n",
        "sse = []\n",
        "list_k = list(range(2, 15))\n",
        "\n",
        "for k in list_k:\n",
        "    km = KMeans(n_clusters=k,n_init=1000,max_iter=10000,random_state=0).fit(Dhaka_grouped_clustering)\n",
        "    sse.append(km.inertia_)\n",
        "\n",
        "# Plot sse against k\n",
        "plt.figure(figsize=(10, 6))\n",
        "plt.plot(list_k, sse, '-o')\n",
        "plt.title('Sum of squared Distance vs number of clusters')\n",
        "plt.xlabel('Number of clusters k')\n",
        "plt.ylabel('Sum of squared distance')"
      ],
      "execution_count": 104,
      "outputs": [
        {
          "output_type": "execute_result",
          "data": {
            "text/plain": [
              "Text(0, 0.5, 'Sum of squared distance')"
            ]
          },
          "metadata": {
            "tags": []
          },
          "execution_count": 104
        },
        {
          "output_type": "display_data",
          "data": {
            "image/png": "[encoded data removed]",
            "text/plain": [
              "<Figure size 720x432 with 1 Axes>"
            ]
          },
          "metadata": {
            "tags": []
          }
        }
      ]
    },
    {
      "cell_type": "markdown",
      "metadata": {
        "id": "5Lm9neadoy9p",
        "colab_type": "text"
      },
      "source": [
        "## K mean clustering"
      ]
    },
    {
      "cell_type": "code",
      "metadata": {
        "id": "cQJeY0jho0fC",
        "colab_type": "code",
        "colab": {
          "base_uri": "https://localhost:8080/",
          "height": 136
        },
        "outputId": "11d03c47-3ac4-4de0-b2e6-a9fa7e8ee2cc"
      },
      "source": [
        "# # set number of clusters\n",
        "kclusters = 7\n",
        "\n",
        "# # run k-means clustering\n",
        "kmeans = KMeans(n_clusters=kclusters, random_state=4,n_init=1000,max_iter=1000).fit(Dhaka_grouped_clustering)\n",
        "\n",
        "# # check cluster labels generated for each row in the dataframe\n",
        "kmeans.labels_\n",
        "\n",
        "(unique, counts) = np.unique(kmeans.labels_, return_counts=True)\n",
        "frequencies = np.asarray((unique, counts)).T\n",
        "print(frequencies)"
      ],
      "execution_count": 167,
      "outputs": [
        {
          "output_type": "stream",
          "text": [
            "[[ 0  4]\n",
            " [ 1 14]\n",
            " [ 2  3]\n",
            " [ 3 10]\n",
            " [ 4  1]\n",
            " [ 5  5]\n",
            " [ 6  2]]\n"
          ],
          "name": "stdout"
        }
      ]
    },
    {
      "cell_type": "markdown",
      "metadata": {
        "id": "f0SOd-rcpGwB",
        "colab_type": "text"
      },
      "source": [
        "## Final Dataset\n",
        "\n",
        "Now lets create a data set with all the most common items as well as the clusterlabels, thana, suboffice, post code, and lattitude longitude"
      ]
    },
    {
      "cell_type": "code",
      "metadata": {
        "id": "nJQc0gtBpR95",
        "colab_type": "code",
        "colab": {
          "base_uri": "https://localhost:8080/",
          "height": 428
        },
        "outputId": "6dfef4bf-7973-4f4d-a9b4-04c9789324f2"
      },
      "source": [
        "neighborhoods_venues_sorted['Cluster Labels']=pd.DataFrame(kmeans.labels_)\n",
        "\n",
        "neighborhoods_venues_sorted['Latitude']=''\n",
        "neighborhoods_venues_sorted['Longitude']=''\n",
        "neighborhoods_venues_sorted['Thana']=''\n",
        "neighborhoods_venues_sorted['Post Code']=''\n",
        "\n",
        "for index_a,Neighborhood in enumerate(neighborhoods_venues_sorted['Neighborhood']):\n",
        "    for index_b,SubOffice in enumerate(Dhaka_loc['SubOffice']):\n",
        "         if Neighborhood==SubOffice:\n",
        "             #print(index_a,index_b,Neighborhood,Dhaka_loc.iloc[index_b,1])\n",
        "             neighborhoods_venues_sorted.loc[index_a,'Post Code']=Dhaka_loc.loc[index_b,'Post Code']\n",
        "             neighborhoods_venues_sorted.loc[index_a,'Latitude']=Dhaka_loc.loc[index_b,'Latitude']\n",
        "             neighborhoods_venues_sorted.loc[index_a,'Thana']=Dhaka_loc.loc[index_b,'Thana']\n",
        "             neighborhoods_venues_sorted.loc[index_a,'Longitude']=Dhaka_loc.loc[index_b,'Longitude']\n",
        "Dhaka_clustered=neighborhoods_venues_sorted.copy(deep= True)\n",
        "Dhaka_clustered.columns\n",
        "\n",
        "\n",
        "column_names = ['Thana','Neighborhood', 'Post Code',\n",
        "            'Cluster Labels', '1st Most Common Venue', '2nd Most Common Venue',\n",
        "            '3rd Most Common Venue', '4th Most Common Venue',\n",
        "            '5th Most Common Venue', '6th Most Common Venue',\n",
        "            '7th Most Common Venue', '8th Most Common Venue',\n",
        "            '9th Most Common Venue', '10th Most Common Venue','Latitude', 'Longitude']\n",
        "\n",
        "Dhaka_clustered = Dhaka_clustered.reindex(columns=column_names)\n",
        "Dhaka_clustered.sort_values(by=['Cluster Labels'],inplace=True)\n",
        "Dhaka_clustered.head()"
      ],
      "execution_count": 135,
      "outputs": [
        {
          "output_type": "execute_result",
          "data": {
            "text/html": [
              "<div>\n",
              "<style scoped>\n",
              "    .dataframe tbody tr th:only-of-type {\n",
              "        vertical-align: middle;\n",
              "    }\n",
              "\n",
              "    .dataframe tbody tr th {\n",
              "        vertical-align: top;\n",
              "    }\n",
              "\n",
              "    .dataframe thead th {\n",
              "        text-align: right;\n",
              "    }\n",
              "</style>\n",
              "<table border=\"1\" class=\"dataframe\">\n",
              "  <thead>\n",
              "    <tr style=\"text-align: right;\">\n",
              "      <th></th>\n",
              "      <th>Thana</th>\n",
              "      <th>Neighborhood</th>\n",
              "      <th>Post Code</th>\n",
              "      <th>Cluster Labels</th>\n",
              "      <th>1st Most Common Venue</th>\n",
              "      <th>2nd Most Common Venue</th>\n",
              "      <th>3rd Most Common Venue</th>\n",
              "      <th>4th Most Common Venue</th>\n",
              "      <th>5th Most Common Venue</th>\n",
              "      <th>6th Most Common Venue</th>\n",
              "      <th>7th Most Common Venue</th>\n",
              "      <th>8th Most Common Venue</th>\n",
              "      <th>9th Most Common Venue</th>\n",
              "      <th>10th Most Common Venue</th>\n",
              "      <th>Latitude</th>\n",
              "      <th>Longitude</th>\n",
              "    </tr>\n",
              "  </thead>\n",
              "  <tbody>\n",
              "    <tr>\n",
              "      <th>19</th>\n",
              "      <td>Keraniganj</td>\n",
              "      <td>Kalatia</td>\n",
              "      <td>1313</td>\n",
              "      <td>0</td>\n",
              "      <td>American Restaurant</td>\n",
              "      <td>Turkish Restaurant</td>\n",
              "      <td>Fried Chicken Joint</td>\n",
              "      <td>Cricket Ground</td>\n",
              "      <td>Dentist's Office</td>\n",
              "      <td>Department Store</td>\n",
              "      <td>Dessert Shop</td>\n",
              "      <td>Donut Shop</td>\n",
              "      <td>Electronics Store</td>\n",
              "      <td>Farmers Market</td>\n",
              "      <td>23.6982</td>\n",
              "      <td>90.3505</td>\n",
              "    </tr>\n",
              "    <tr>\n",
              "      <th>1</th>\n",
              "      <td>Keraniganj</td>\n",
              "      <td>Ati</td>\n",
              "      <td>1312</td>\n",
              "      <td>0</td>\n",
              "      <td>American Restaurant</td>\n",
              "      <td>Turkish Restaurant</td>\n",
              "      <td>Fried Chicken Joint</td>\n",
              "      <td>Cricket Ground</td>\n",
              "      <td>Dentist's Office</td>\n",
              "      <td>Department Store</td>\n",
              "      <td>Dessert Shop</td>\n",
              "      <td>Donut Shop</td>\n",
              "      <td>Electronics Store</td>\n",
              "      <td>Farmers Market</td>\n",
              "      <td>23.6982</td>\n",
              "      <td>90.3505</td>\n",
              "    </tr>\n",
              "    <tr>\n",
              "      <th>21</th>\n",
              "      <td>Keraniganj</td>\n",
              "      <td>Keraniganj</td>\n",
              "      <td>1310</td>\n",
              "      <td>0</td>\n",
              "      <td>American Restaurant</td>\n",
              "      <td>Turkish Restaurant</td>\n",
              "      <td>Fried Chicken Joint</td>\n",
              "      <td>Cricket Ground</td>\n",
              "      <td>Dentist's Office</td>\n",
              "      <td>Department Store</td>\n",
              "      <td>Dessert Shop</td>\n",
              "      <td>Donut Shop</td>\n",
              "      <td>Electronics Store</td>\n",
              "      <td>Farmers Market</td>\n",
              "      <td>23.6982</td>\n",
              "      <td>90.3505</td>\n",
              "    </tr>\n",
              "    <tr>\n",
              "      <th>8</th>\n",
              "      <td>Keraniganj</td>\n",
              "      <td>Dhaka Jute Mills</td>\n",
              "      <td>1311</td>\n",
              "      <td>0</td>\n",
              "      <td>American Restaurant</td>\n",
              "      <td>Turkish Restaurant</td>\n",
              "      <td>Fried Chicken Joint</td>\n",
              "      <td>Cricket Ground</td>\n",
              "      <td>Dentist's Office</td>\n",
              "      <td>Department Store</td>\n",
              "      <td>Dessert Shop</td>\n",
              "      <td>Donut Shop</td>\n",
              "      <td>Electronics Store</td>\n",
              "      <td>Farmers Market</td>\n",
              "      <td>23.6982</td>\n",
              "      <td>90.3505</td>\n",
              "    </tr>\n",
              "    <tr>\n",
              "      <th>23</th>\n",
              "      <td>Khilkhet</td>\n",
              "      <td>KhilkhetTSO</td>\n",
              "      <td>1229</td>\n",
              "      <td>1</td>\n",
              "      <td>Shopping Mall</td>\n",
              "      <td>Lounge</td>\n",
              "      <td>Coffee Shop</td>\n",
              "      <td>Hookah Bar</td>\n",
              "      <td>Indian Restaurant</td>\n",
              "      <td>Tea Room</td>\n",
              "      <td>Clothing Store</td>\n",
              "      <td>Gymnastics Gym</td>\n",
              "      <td>Light Rail Station</td>\n",
              "      <td>Bar</td>\n",
              "      <td>23.8307</td>\n",
              "      <td>90.4236</td>\n",
              "    </tr>\n",
              "  </tbody>\n",
              "</table>\n",
              "</div>"
            ],
            "text/plain": [
              "         Thana      Neighborhood Post Code  Cluster Labels  \\\n",
              "19  Keraniganj           Kalatia      1313               0   \n",
              "1   Keraniganj               Ati      1312               0   \n",
              "21  Keraniganj        Keraniganj      1310               0   \n",
              "8   Keraniganj  Dhaka Jute Mills      1311               0   \n",
              "23    Khilkhet       KhilkhetTSO      1229               1   \n",
              "\n",
              "   1st Most Common Venue 2nd Most Common Venue 3rd Most Common Venue  \\\n",
              "19   American Restaurant    Turkish Restaurant   Fried Chicken Joint   \n",
              "1    American Restaurant    Turkish Restaurant   Fried Chicken Joint   \n",
              "21   American Restaurant    Turkish Restaurant   Fried Chicken Joint   \n",
              "8    American Restaurant    Turkish Restaurant   Fried Chicken Joint   \n",
              "23         Shopping Mall                Lounge           Coffee Shop   \n",
              "\n",
              "   4th Most Common Venue 5th Most Common Venue 6th Most Common Venue  \\\n",
              "19        Cricket Ground      Dentist's Office      Department Store   \n",
              "1         Cricket Ground      Dentist's Office      Department Store   \n",
              "21        Cricket Ground      Dentist's Office      Department Store   \n",
              "8         Cricket Ground      Dentist's Office      Department Store   \n",
              "23            Hookah Bar     Indian Restaurant              Tea Room   \n",
              "\n",
              "   7th Most Common Venue 8th Most Common Venue 9th Most Common Venue  \\\n",
              "19          Dessert Shop            Donut Shop     Electronics Store   \n",
              "1           Dessert Shop            Donut Shop     Electronics Store   \n",
              "21          Dessert Shop            Donut Shop     Electronics Store   \n",
              "8           Dessert Shop            Donut Shop     Electronics Store   \n",
              "23        Clothing Store        Gymnastics Gym    Light Rail Station   \n",
              "\n",
              "   10th Most Common Venue Latitude Longitude  \n",
              "19         Farmers Market  23.6982   90.3505  \n",
              "1          Farmers Market  23.6982   90.3505  \n",
              "21         Farmers Market  23.6982   90.3505  \n",
              "8          Farmers Market  23.6982   90.3505  \n",
              "23                    Bar  23.8307   90.4236  "
            ]
          },
          "metadata": {
            "tags": []
          },
          "execution_count": 135
        }
      ]
    },
    {
      "cell_type": "code",
      "metadata": {
        "id": "UuFbhcMrqJ8U",
        "colab_type": "code",
        "colab": {}
      },
      "source": [
        "Dhaka_clustered.to_csv('Dhaka_clustered.csv',index=False)"
      ],
      "execution_count": 0,
      "outputs": []
    },
    {
      "cell_type": "markdown",
      "metadata": {
        "id": "lXgy1MVhqi4I",
        "colab_type": "text"
      },
      "source": [
        "## Map of clustered location\n",
        "\n",
        "Now lets map the locations having same cluster labels."
      ]
    },
    {
      "cell_type": "code",
      "metadata": {
        "id": "Ux9TPx7WqtBv",
        "colab_type": "code",
        "colab": {
          "base_uri": "https://localhost:8080/",
          "height": 763
        },
        "outputId": "a1432a1b-a7b6-4a6c-daca-a096c0edb2f8"
      },
      "source": [
        "# create map for dhaka\n",
        "map_clusters = folium.Map(location=[23.8103, 90.4125], zoom_start=12.2)\n",
        "\n",
        "# set color scheme for the clusters\n",
        "x = np.arange(kclusters)\n",
        "ys = [i + x + (i*x)**2 for i in range(kclusters)]\n",
        "colors_array = cm.rainbow(np.linspace(0, 1, len(ys)))\n",
        "rainbow = [colors.rgb2hex(i) for i in colors_array]\n",
        "\n",
        "# add markers to the map'Latitude','Longitude'],\n",
        "markers_colors = []\n",
        "#ghapla\n",
        "for lat, lon, poi, cluster in zip(Dhaka_clustered['Latitude'], \n",
        "                                  Dhaka_clustered['Longitude'], \n",
        "                                  Dhaka_clustered['Thana'], \n",
        "                                  Dhaka_clustered['Cluster Labels']):\n",
        "    label = folium.Popup(str(poi) + ' Cluster ' + str(cluster), parse_html=True)\n",
        "    folium.CircleMarker(\n",
        "        [lat, lon],\n",
        "        radius=10,\n",
        "        popup=label,\n",
        "        color=rainbow[cluster-3],\n",
        "        fill=True,\n",
        "        #fill_color=rainbow[cluster-1],\n",
        "        fill_opacity=0.7).add_to(map_clusters)\n",
        "       \n",
        "map_clusters"
      ],
      "execution_count": 136,
      "outputs": [
        {
          "output_type": "execute_result",
          "data": {
            "text/html": [
              "<div style=\"width:100%;\"><div style=\"position:relative;width:100%;height:0;padding-bottom:60%;\"><iframe src=\"about:blank\" style=\"position:absolute;width:100%;height:100%;left:0;top:0;border:none !important;\" data-html=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 onload=\"this.contentDocument.open();this.contentDocument.write(atob(this.getAttribute('data-html')));this.contentDocument.close();\" allowfullscreen webkitallowfullscreen mozallowfullscreen></iframe></div></div>"
            ],
            "text/plain": [
              "<folium.folium.Map at 0x7f0722c5e8d0>"
            ]
          },
          "metadata": {
            "tags": []
          },
          "execution_count": 136
        }
      ]
    },
    {
      "cell_type": "markdown",
      "metadata": {
        "id": "eUlei0trs4GK",
        "colab_type": "text"
      },
      "source": [
        "## Areas based on clusters\n",
        "lets now create individual dataframes based on clusters"
      ]
    },
    {
      "cell_type": "markdown",
      "metadata": {
        "id": "6ZPD-yvEtNcA",
        "colab_type": "text"
      },
      "source": [
        "CLuster 0 is in Thana Keraniganj with Ati, Keraniganj, Dhaka Jute mills, and kalatia locations which have common attributes within but they have distinct difference with other clusters. the most common resturent categories for this cluster is american and Turkish resturents. They also have cricket ground Department store farmers market within 1.5 KM range."
      ]
    },
    {
      "cell_type": "code",
      "metadata": {
        "id": "wBJ3bTsFtCOZ",
        "colab_type": "code",
        "colab": {
          "base_uri": "https://localhost:8080/",
          "height": 360
        },
        "outputId": "2f029bee-98d9-4835-e8ed-f64bb38e5fda"
      },
      "source": [
        "Cluster_0=Dhaka_clustered[Dhaka_clustered['Cluster Labels']==0]\n",
        "Cluster_0.to_csv('Cluster_0.csv',index=False)\n",
        "Cluster_0.head()"
      ],
      "execution_count": 144,
      "outputs": [
        {
          "output_type": "execute_result",
          "data": {
            "text/html": [
              "<div>\n",
              "<style scoped>\n",
              "    .dataframe tbody tr th:only-of-type {\n",
              "        vertical-align: middle;\n",
              "    }\n",
              "\n",
              "    .dataframe tbody tr th {\n",
              "        vertical-align: top;\n",
              "    }\n",
              "\n",
              "    .dataframe thead th {\n",
              "        text-align: right;\n",
              "    }\n",
              "</style>\n",
              "<table border=\"1\" class=\"dataframe\">\n",
              "  <thead>\n",
              "    <tr style=\"text-align: right;\">\n",
              "      <th></th>\n",
              "      <th>Thana</th>\n",
              "      <th>Neighborhood</th>\n",
              "      <th>Post Code</th>\n",
              "      <th>Cluster Labels</th>\n",
              "      <th>1st Most Common Venue</th>\n",
              "      <th>2nd Most Common Venue</th>\n",
              "      <th>3rd Most Common Venue</th>\n",
              "      <th>4th Most Common Venue</th>\n",
              "      <th>5th Most Common Venue</th>\n",
              "      <th>6th Most Common Venue</th>\n",
              "      <th>7th Most Common Venue</th>\n",
              "      <th>8th Most Common Venue</th>\n",
              "      <th>9th Most Common Venue</th>\n",
              "      <th>10th Most Common Venue</th>\n",
              "      <th>Latitude</th>\n",
              "      <th>Longitude</th>\n",
              "    </tr>\n",
              "  </thead>\n",
              "  <tbody>\n",
              "    <tr>\n",
              "      <th>19</th>\n",
              "      <td>Keraniganj</td>\n",
              "      <td>Kalatia</td>\n",
              "      <td>1313</td>\n",
              "      <td>0</td>\n",
              "      <td>American Restaurant</td>\n",
              "      <td>Turkish Restaurant</td>\n",
              "      <td>Fried Chicken Joint</td>\n",
              "      <td>Cricket Ground</td>\n",
              "      <td>Dentist's Office</td>\n",
              "      <td>Department Store</td>\n",
              "      <td>Dessert Shop</td>\n",
              "      <td>Donut Shop</td>\n",
              "      <td>Electronics Store</td>\n",
              "      <td>Farmers Market</td>\n",
              "      <td>23.6982</td>\n",
              "      <td>90.3505</td>\n",
              "    </tr>\n",
              "    <tr>\n",
              "      <th>1</th>\n",
              "      <td>Keraniganj</td>\n",
              "      <td>Ati</td>\n",
              "      <td>1312</td>\n",
              "      <td>0</td>\n",
              "      <td>American Restaurant</td>\n",
              "      <td>Turkish Restaurant</td>\n",
              "      <td>Fried Chicken Joint</td>\n",
              "      <td>Cricket Ground</td>\n",
              "      <td>Dentist's Office</td>\n",
              "      <td>Department Store</td>\n",
              "      <td>Dessert Shop</td>\n",
              "      <td>Donut Shop</td>\n",
              "      <td>Electronics Store</td>\n",
              "      <td>Farmers Market</td>\n",
              "      <td>23.6982</td>\n",
              "      <td>90.3505</td>\n",
              "    </tr>\n",
              "    <tr>\n",
              "      <th>21</th>\n",
              "      <td>Keraniganj</td>\n",
              "      <td>Keraniganj</td>\n",
              "      <td>1310</td>\n",
              "      <td>0</td>\n",
              "      <td>American Restaurant</td>\n",
              "      <td>Turkish Restaurant</td>\n",
              "      <td>Fried Chicken Joint</td>\n",
              "      <td>Cricket Ground</td>\n",
              "      <td>Dentist's Office</td>\n",
              "      <td>Department Store</td>\n",
              "      <td>Dessert Shop</td>\n",
              "      <td>Donut Shop</td>\n",
              "      <td>Electronics Store</td>\n",
              "      <td>Farmers Market</td>\n",
              "      <td>23.6982</td>\n",
              "      <td>90.3505</td>\n",
              "    </tr>\n",
              "    <tr>\n",
              "      <th>8</th>\n",
              "      <td>Keraniganj</td>\n",
              "      <td>Dhaka Jute Mills</td>\n",
              "      <td>1311</td>\n",
              "      <td>0</td>\n",
              "      <td>American Restaurant</td>\n",
              "      <td>Turkish Restaurant</td>\n",
              "      <td>Fried Chicken Joint</td>\n",
              "      <td>Cricket Ground</td>\n",
              "      <td>Dentist's Office</td>\n",
              "      <td>Department Store</td>\n",
              "      <td>Dessert Shop</td>\n",
              "      <td>Donut Shop</td>\n",
              "      <td>Electronics Store</td>\n",
              "      <td>Farmers Market</td>\n",
              "      <td>23.6982</td>\n",
              "      <td>90.3505</td>\n",
              "    </tr>\n",
              "  </tbody>\n",
              "</table>\n",
              "</div>"
            ],
            "text/plain": [
              "         Thana      Neighborhood Post Code  Cluster Labels  \\\n",
              "19  Keraniganj           Kalatia      1313               0   \n",
              "1   Keraniganj               Ati      1312               0   \n",
              "21  Keraniganj        Keraniganj      1310               0   \n",
              "8   Keraniganj  Dhaka Jute Mills      1311               0   \n",
              "\n",
              "   1st Most Common Venue 2nd Most Common Venue 3rd Most Common Venue  \\\n",
              "19   American Restaurant    Turkish Restaurant   Fried Chicken Joint   \n",
              "1    American Restaurant    Turkish Restaurant   Fried Chicken Joint   \n",
              "21   American Restaurant    Turkish Restaurant   Fried Chicken Joint   \n",
              "8    American Restaurant    Turkish Restaurant   Fried Chicken Joint   \n",
              "\n",
              "   4th Most Common Venue 5th Most Common Venue 6th Most Common Venue  \\\n",
              "19        Cricket Ground      Dentist's Office      Department Store   \n",
              "1         Cricket Ground      Dentist's Office      Department Store   \n",
              "21        Cricket Ground      Dentist's Office      Department Store   \n",
              "8         Cricket Ground      Dentist's Office      Department Store   \n",
              "\n",
              "   7th Most Common Venue 8th Most Common Venue 9th Most Common Venue  \\\n",
              "19          Dessert Shop            Donut Shop     Electronics Store   \n",
              "1           Dessert Shop            Donut Shop     Electronics Store   \n",
              "21          Dessert Shop            Donut Shop     Electronics Store   \n",
              "8           Dessert Shop            Donut Shop     Electronics Store   \n",
              "\n",
              "   10th Most Common Venue Latitude Longitude  \n",
              "19         Farmers Market  23.6982   90.3505  \n",
              "1          Farmers Market  23.6982   90.3505  \n",
              "21         Farmers Market  23.6982   90.3505  \n",
              "8          Farmers Market  23.6982   90.3505  "
            ]
          },
          "metadata": {
            "tags": []
          },
          "execution_count": 144
        }
      ]
    },
    {
      "cell_type": "markdown",
      "metadata": {
        "id": "GKWBzqgB0wa_",
        "colab_type": "text"
      },
      "source": [
        "CLuster 1 consists of 11 Thanas. They are Gulshan, Mohammadpur, Khilkhet, Uttara, Khilgaon, Ramna,Tejgaon, Dahka sadarm Dhanmondi, shabujbag and Mirpur.\n",
        "we have analyzed 14 neighborhoods in this area. they are Khilkhet-TSO, Khilgaon-TSO, Uttara Model Town-TSO, Jigatala TSO, Gulshan Model Town, Sangsad Bhaban TSO, Mirpur TSO, Mohammadpur Housing, Shantinagr TSO, Dhaka Cantonment TSO, Basabo TSO, Tejgaon TSO, Banani TSO, and Badda.\n",
        "\n",
        "the most common item in these areas are Café, Fast Food Restaurant, Shopping Mall, and Hotel.\n"
      ]
    },
    {
      "cell_type": "code",
      "metadata": {
        "id": "pnAw_nC50KIP",
        "colab_type": "code",
        "colab": {
          "base_uri": "https://localhost:8080/",
          "height": 377
        },
        "outputId": "f053d8d5-9056-4807-d7e3-b31c7635a8ee"
      },
      "source": [
        "Cluster_1=Dhaka_clustered[Dhaka_clustered['Cluster Labels']==1]\n",
        "Cluster_1.to_csv('Cluster_1.csv',index=False)\n",
        "Cluster_1.head()"
      ],
      "execution_count": 177,
      "outputs": [
        {
          "output_type": "execute_result",
          "data": {
            "text/html": [
              "<div>\n",
              "<style scoped>\n",
              "    .dataframe tbody tr th:only-of-type {\n",
              "        vertical-align: middle;\n",
              "    }\n",
              "\n",
              "    .dataframe tbody tr th {\n",
              "        vertical-align: top;\n",
              "    }\n",
              "\n",
              "    .dataframe thead th {\n",
              "        text-align: right;\n",
              "    }\n",
              "</style>\n",
              "<table border=\"1\" class=\"dataframe\">\n",
              "  <thead>\n",
              "    <tr style=\"text-align: right;\">\n",
              "      <th></th>\n",
              "      <th>Thana</th>\n",
              "      <th>Neighborhood</th>\n",
              "      <th>Post Code</th>\n",
              "      <th>Cluster Labels</th>\n",
              "      <th>1st Most Common Venue</th>\n",
              "      <th>2nd Most Common Venue</th>\n",
              "      <th>3rd Most Common Venue</th>\n",
              "      <th>4th Most Common Venue</th>\n",
              "      <th>5th Most Common Venue</th>\n",
              "      <th>6th Most Common Venue</th>\n",
              "      <th>7th Most Common Venue</th>\n",
              "      <th>8th Most Common Venue</th>\n",
              "      <th>9th Most Common Venue</th>\n",
              "      <th>10th Most Common Venue</th>\n",
              "      <th>Latitude</th>\n",
              "      <th>Longitude</th>\n",
              "    </tr>\n",
              "  </thead>\n",
              "  <tbody>\n",
              "    <tr>\n",
              "      <th>23</th>\n",
              "      <td>Khilkhet</td>\n",
              "      <td>KhilkhetTSO</td>\n",
              "      <td>1229</td>\n",
              "      <td>1</td>\n",
              "      <td>Shopping Mall</td>\n",
              "      <td>Lounge</td>\n",
              "      <td>Coffee Shop</td>\n",
              "      <td>Hookah Bar</td>\n",
              "      <td>Indian Restaurant</td>\n",
              "      <td>Tea Room</td>\n",
              "      <td>Clothing Store</td>\n",
              "      <td>Gymnastics Gym</td>\n",
              "      <td>Light Rail Station</td>\n",
              "      <td>Bar</td>\n",
              "      <td>23.8307</td>\n",
              "      <td>90.4236</td>\n",
              "    </tr>\n",
              "    <tr>\n",
              "      <th>22</th>\n",
              "      <td>Khilgaon</td>\n",
              "      <td>KhilgaonTSO</td>\n",
              "      <td>1219</td>\n",
              "      <td>1</td>\n",
              "      <td>Fast Food Restaurant</td>\n",
              "      <td>Shopping Mall</td>\n",
              "      <td>Café</td>\n",
              "      <td>Indian Restaurant</td>\n",
              "      <td>Plaza</td>\n",
              "      <td>Market</td>\n",
              "      <td>Coffee Shop</td>\n",
              "      <td>Light Rail Station</td>\n",
              "      <td>Lake</td>\n",
              "      <td>Comfort Food Restaurant</td>\n",
              "      <td>23.7497</td>\n",
              "      <td>90.4176</td>\n",
              "    </tr>\n",
              "    <tr>\n",
              "      <th>37</th>\n",
              "      <td>Uttara</td>\n",
              "      <td>Uttara Model TownTSO</td>\n",
              "      <td>1230</td>\n",
              "      <td>1</td>\n",
              "      <td>Mexican Restaurant</td>\n",
              "      <td>Café</td>\n",
              "      <td>Department Store</td>\n",
              "      <td>Pizza Place</td>\n",
              "      <td>Restaurant</td>\n",
              "      <td>Ice Cream Shop</td>\n",
              "      <td>Asian Restaurant</td>\n",
              "      <td>BBQ Joint</td>\n",
              "      <td>Bakery</td>\n",
              "      <td>Market</td>\n",
              "      <td>23.8755</td>\n",
              "      <td>90.3996</td>\n",
              "    </tr>\n",
              "    <tr>\n",
              "      <th>16</th>\n",
              "      <td>Dhanmondi</td>\n",
              "      <td>Jigatala TSO</td>\n",
              "      <td>1209</td>\n",
              "      <td>1</td>\n",
              "      <td>Café</td>\n",
              "      <td>Fast Food Restaurant</td>\n",
              "      <td>Restaurant</td>\n",
              "      <td>Shopping Mall</td>\n",
              "      <td>Bakery</td>\n",
              "      <td>Ice Cream Shop</td>\n",
              "      <td>Coffee Shop</td>\n",
              "      <td>Art Gallery</td>\n",
              "      <td>Asian Restaurant</td>\n",
              "      <td>Bus Station</td>\n",
              "      <td>23.7471</td>\n",
              "      <td>90.3757</td>\n",
              "    </tr>\n",
              "    <tr>\n",
              "      <th>14</th>\n",
              "      <td>Gulshan</td>\n",
              "      <td>Gulshan Model Town</td>\n",
              "      <td>1212</td>\n",
              "      <td>1</td>\n",
              "      <td>Café</td>\n",
              "      <td>Hotel</td>\n",
              "      <td>Coffee Shop</td>\n",
              "      <td>Korean Restaurant</td>\n",
              "      <td>Asian Restaurant</td>\n",
              "      <td>Fast Food Restaurant</td>\n",
              "      <td>Italian Restaurant</td>\n",
              "      <td>Indian Restaurant</td>\n",
              "      <td>Nightclub</td>\n",
              "      <td>Ice Cream Shop</td>\n",
              "      <td>23.79</td>\n",
              "      <td>90.4116</td>\n",
              "    </tr>\n",
              "  </tbody>\n",
              "</table>\n",
              "</div>"
            ],
            "text/plain": [
              "        Thana          Neighborhood Post Code  Cluster Labels  \\\n",
              "23   Khilkhet           KhilkhetTSO      1229               1   \n",
              "22   Khilgaon           KhilgaonTSO      1219               1   \n",
              "37     Uttara  Uttara Model TownTSO      1230               1   \n",
              "16  Dhanmondi          Jigatala TSO      1209               1   \n",
              "14    Gulshan    Gulshan Model Town      1212               1   \n",
              "\n",
              "   1st Most Common Venue 2nd Most Common Venue 3rd Most Common Venue  \\\n",
              "23         Shopping Mall                Lounge           Coffee Shop   \n",
              "22  Fast Food Restaurant         Shopping Mall                  Café   \n",
              "37    Mexican Restaurant                  Café      Department Store   \n",
              "16                  Café  Fast Food Restaurant            Restaurant   \n",
              "14                  Café                 Hotel           Coffee Shop   \n",
              "\n",
              "   4th Most Common Venue 5th Most Common Venue 6th Most Common Venue  \\\n",
              "23            Hookah Bar     Indian Restaurant              Tea Room   \n",
              "22     Indian Restaurant                 Plaza                Market   \n",
              "37           Pizza Place            Restaurant        Ice Cream Shop   \n",
              "16         Shopping Mall                Bakery        Ice Cream Shop   \n",
              "14     Korean Restaurant      Asian Restaurant  Fast Food Restaurant   \n",
              "\n",
              "   7th Most Common Venue 8th Most Common Venue 9th Most Common Venue  \\\n",
              "23        Clothing Store        Gymnastics Gym    Light Rail Station   \n",
              "22           Coffee Shop    Light Rail Station                  Lake   \n",
              "37      Asian Restaurant             BBQ Joint                Bakery   \n",
              "16           Coffee Shop           Art Gallery      Asian Restaurant   \n",
              "14    Italian Restaurant     Indian Restaurant             Nightclub   \n",
              "\n",
              "     10th Most Common Venue Latitude Longitude  \n",
              "23                      Bar  23.8307   90.4236  \n",
              "22  Comfort Food Restaurant  23.7497   90.4176  \n",
              "37                   Market  23.8755   90.3996  \n",
              "16              Bus Station  23.7471   90.3757  \n",
              "14           Ice Cream Shop    23.79   90.4116  "
            ]
          },
          "metadata": {
            "tags": []
          },
          "execution_count": 177
        }
      ]
    },
    {
      "cell_type": "markdown",
      "metadata": {
        "id": "D04iC0xw3WDu",
        "colab_type": "text"
      },
      "source": [
        "in this study,Cluster_2 consist of one thana, Jaypara, with three neighborhood Joypara, Palamganj, and Narisha. The most common items in this location are Big Box store, Turkish Resturent and Fried Chicken Joint."
      ]
    },
    {
      "cell_type": "code",
      "metadata": {
        "id": "Wy_SmneS0TQV",
        "colab_type": "code",
        "colab": {
          "base_uri": "https://localhost:8080/",
          "height": 295
        },
        "outputId": "ac5b101e-e953-4c7a-e33f-9dc7db67ac9f"
      },
      "source": [
        "Cluster_2=Dhaka_clustered[Dhaka_clustered['Cluster Labels']==2]\n",
        "Cluster_2.to_csv('Cluster_2.csv',index=False)\n",
        "Cluster_2"
      ],
      "execution_count": 179,
      "outputs": [
        {
          "output_type": "execute_result",
          "data": {
            "text/html": [
              "<div>\n",
              "<style scoped>\n",
              "    .dataframe tbody tr th:only-of-type {\n",
              "        vertical-align: middle;\n",
              "    }\n",
              "\n",
              "    .dataframe tbody tr th {\n",
              "        vertical-align: top;\n",
              "    }\n",
              "\n",
              "    .dataframe thead th {\n",
              "        text-align: right;\n",
              "    }\n",
              "</style>\n",
              "<table border=\"1\" class=\"dataframe\">\n",
              "  <thead>\n",
              "    <tr style=\"text-align: right;\">\n",
              "      <th></th>\n",
              "      <th>Thana</th>\n",
              "      <th>Neighborhood</th>\n",
              "      <th>Post Code</th>\n",
              "      <th>Cluster Labels</th>\n",
              "      <th>1st Most Common Venue</th>\n",
              "      <th>2nd Most Common Venue</th>\n",
              "      <th>3rd Most Common Venue</th>\n",
              "      <th>4th Most Common Venue</th>\n",
              "      <th>5th Most Common Venue</th>\n",
              "      <th>6th Most Common Venue</th>\n",
              "      <th>7th Most Common Venue</th>\n",
              "      <th>8th Most Common Venue</th>\n",
              "      <th>9th Most Common Venue</th>\n",
              "      <th>10th Most Common Venue</th>\n",
              "      <th>Latitude</th>\n",
              "      <th>Longitude</th>\n",
              "    </tr>\n",
              "  </thead>\n",
              "  <tbody>\n",
              "    <tr>\n",
              "      <th>17</th>\n",
              "      <td>Joypara</td>\n",
              "      <td>Joypara</td>\n",
              "      <td>1331</td>\n",
              "      <td>2</td>\n",
              "      <td>Big Box Store</td>\n",
              "      <td>Turkish Restaurant</td>\n",
              "      <td>Fried Chicken Joint</td>\n",
              "      <td>Cricket Ground</td>\n",
              "      <td>Dentist's Office</td>\n",
              "      <td>Department Store</td>\n",
              "      <td>Dessert Shop</td>\n",
              "      <td>Donut Shop</td>\n",
              "      <td>Electronics Store</td>\n",
              "      <td>Farmers Market</td>\n",
              "      <td>23.6076</td>\n",
              "      <td>90.125</td>\n",
              "    </tr>\n",
              "    <tr>\n",
              "      <th>27</th>\n",
              "      <td>Joypara</td>\n",
              "      <td>Palamganj</td>\n",
              "      <td>1331</td>\n",
              "      <td>2</td>\n",
              "      <td>Big Box Store</td>\n",
              "      <td>Turkish Restaurant</td>\n",
              "      <td>Fried Chicken Joint</td>\n",
              "      <td>Cricket Ground</td>\n",
              "      <td>Dentist's Office</td>\n",
              "      <td>Department Store</td>\n",
              "      <td>Dessert Shop</td>\n",
              "      <td>Donut Shop</td>\n",
              "      <td>Electronics Store</td>\n",
              "      <td>Farmers Market</td>\n",
              "      <td>23.6076</td>\n",
              "      <td>90.125</td>\n",
              "    </tr>\n",
              "    <tr>\n",
              "      <th>26</th>\n",
              "      <td>Joypara</td>\n",
              "      <td>Narisha</td>\n",
              "      <td>1332</td>\n",
              "      <td>2</td>\n",
              "      <td>Big Box Store</td>\n",
              "      <td>Turkish Restaurant</td>\n",
              "      <td>Fried Chicken Joint</td>\n",
              "      <td>Cricket Ground</td>\n",
              "      <td>Dentist's Office</td>\n",
              "      <td>Department Store</td>\n",
              "      <td>Dessert Shop</td>\n",
              "      <td>Donut Shop</td>\n",
              "      <td>Electronics Store</td>\n",
              "      <td>Farmers Market</td>\n",
              "      <td>23.6076</td>\n",
              "      <td>90.125</td>\n",
              "    </tr>\n",
              "  </tbody>\n",
              "</table>\n",
              "</div>"
            ],
            "text/plain": [
              "      Thana Neighborhood Post Code  Cluster Labels 1st Most Common Venue  \\\n",
              "17  Joypara      Joypara      1331               2         Big Box Store   \n",
              "27  Joypara    Palamganj      1331               2         Big Box Store   \n",
              "26  Joypara      Narisha      1332               2         Big Box Store   \n",
              "\n",
              "   2nd Most Common Venue 3rd Most Common Venue 4th Most Common Venue  \\\n",
              "17    Turkish Restaurant   Fried Chicken Joint        Cricket Ground   \n",
              "27    Turkish Restaurant   Fried Chicken Joint        Cricket Ground   \n",
              "26    Turkish Restaurant   Fried Chicken Joint        Cricket Ground   \n",
              "\n",
              "   5th Most Common Venue 6th Most Common Venue 7th Most Common Venue  \\\n",
              "17      Dentist's Office      Department Store          Dessert Shop   \n",
              "27      Dentist's Office      Department Store          Dessert Shop   \n",
              "26      Dentist's Office      Department Store          Dessert Shop   \n",
              "\n",
              "   8th Most Common Venue 9th Most Common Venue 10th Most Common Venue  \\\n",
              "17            Donut Shop     Electronics Store         Farmers Market   \n",
              "27            Donut Shop     Electronics Store         Farmers Market   \n",
              "26            Donut Shop     Electronics Store         Farmers Market   \n",
              "\n",
              "   Latitude Longitude  \n",
              "17  23.6076    90.125  \n",
              "27  23.6076    90.125  \n",
              "26  23.6076    90.125  "
            ]
          },
          "metadata": {
            "tags": []
          },
          "execution_count": 179
        }
      ]
    },
    {
      "cell_type": "markdown",
      "metadata": {
        "id": "7hqVAzuf355E",
        "colab_type": "text"
      },
      "source": [
        "in this study, Cluster_3 consist of one thana, Savar, with ten neighborhoods Amin Bazar, Dairy Farm, Saver P.A.T.C, Rajphulbaria, EPZ, Kashem Cotton Mills, Jahangirnagar University, Savar Canttonment, Savar, and Shimulia. The most common items in this location are Shopping mall, Bus station and market"
      ]
    },
    {
      "cell_type": "code",
      "metadata": {
        "id": "d0aCtTo43_Ru",
        "colab_type": "code",
        "colab": {
          "base_uri": "https://localhost:8080/",
          "height": 340
        },
        "outputId": "f20c0411-39bd-433c-de29-f21fef2833bf"
      },
      "source": [
        "Cluster_3=Dhaka_clustered[Dhaka_clustered['Cluster Labels']==3]\n",
        "Cluster_3.to_csv('Cluster_3.csv',index=False)\n",
        "Cluster_3.head()"
      ],
      "execution_count": 186,
      "outputs": [
        {
          "output_type": "execute_result",
          "data": {
            "text/html": [
              "<div>\n",
              "<style scoped>\n",
              "    .dataframe tbody tr th:only-of-type {\n",
              "        vertical-align: middle;\n",
              "    }\n",
              "\n",
              "    .dataframe tbody tr th {\n",
              "        vertical-align: top;\n",
              "    }\n",
              "\n",
              "    .dataframe thead th {\n",
              "        text-align: right;\n",
              "    }\n",
              "</style>\n",
              "<table border=\"1\" class=\"dataframe\">\n",
              "  <thead>\n",
              "    <tr style=\"text-align: right;\">\n",
              "      <th></th>\n",
              "      <th>Thana</th>\n",
              "      <th>Neighborhood</th>\n",
              "      <th>Post Code</th>\n",
              "      <th>Cluster Labels</th>\n",
              "      <th>1st Most Common Venue</th>\n",
              "      <th>2nd Most Common Venue</th>\n",
              "      <th>3rd Most Common Venue</th>\n",
              "      <th>4th Most Common Venue</th>\n",
              "      <th>5th Most Common Venue</th>\n",
              "      <th>6th Most Common Venue</th>\n",
              "      <th>7th Most Common Venue</th>\n",
              "      <th>8th Most Common Venue</th>\n",
              "      <th>9th Most Common Venue</th>\n",
              "      <th>10th Most Common Venue</th>\n",
              "      <th>Latitude</th>\n",
              "      <th>Longitude</th>\n",
              "    </tr>\n",
              "  </thead>\n",
              "  <tbody>\n",
              "    <tr>\n",
              "      <th>33</th>\n",
              "      <td>Savar</td>\n",
              "      <td>Saver P.A.T.C</td>\n",
              "      <td>1343</td>\n",
              "      <td>3</td>\n",
              "      <td>Shopping Mall</td>\n",
              "      <td>Bus Station</td>\n",
              "      <td>Market</td>\n",
              "      <td>Turkish Restaurant</td>\n",
              "      <td>Food</td>\n",
              "      <td>Cricket Ground</td>\n",
              "      <td>Dentist's Office</td>\n",
              "      <td>Department Store</td>\n",
              "      <td>Dessert Shop</td>\n",
              "      <td>Donut Shop</td>\n",
              "      <td>23.8477</td>\n",
              "      <td>90.2587</td>\n",
              "    </tr>\n",
              "    <tr>\n",
              "      <th>29</th>\n",
              "      <td>Savar</td>\n",
              "      <td>Rajphulbaria</td>\n",
              "      <td>1347</td>\n",
              "      <td>3</td>\n",
              "      <td>Shopping Mall</td>\n",
              "      <td>Bus Station</td>\n",
              "      <td>Market</td>\n",
              "      <td>Turkish Restaurant</td>\n",
              "      <td>Food</td>\n",
              "      <td>Cricket Ground</td>\n",
              "      <td>Dentist's Office</td>\n",
              "      <td>Department Store</td>\n",
              "      <td>Dessert Shop</td>\n",
              "      <td>Donut Shop</td>\n",
              "      <td>23.8477</td>\n",
              "      <td>90.2587</td>\n",
              "    </tr>\n",
              "    <tr>\n",
              "      <th>35</th>\n",
              "      <td>Savar</td>\n",
              "      <td>Shimulia</td>\n",
              "      <td>1345</td>\n",
              "      <td>3</td>\n",
              "      <td>Shopping Mall</td>\n",
              "      <td>Bus Station</td>\n",
              "      <td>Market</td>\n",
              "      <td>Turkish Restaurant</td>\n",
              "      <td>Food</td>\n",
              "      <td>Cricket Ground</td>\n",
              "      <td>Dentist's Office</td>\n",
              "      <td>Department Store</td>\n",
              "      <td>Dessert Shop</td>\n",
              "      <td>Donut Shop</td>\n",
              "      <td>23.8477</td>\n",
              "      <td>90.2587</td>\n",
              "    </tr>\n",
              "    <tr>\n",
              "      <th>32</th>\n",
              "      <td>Savar</td>\n",
              "      <td>Savar Canttonment</td>\n",
              "      <td>1344</td>\n",
              "      <td>3</td>\n",
              "      <td>Shopping Mall</td>\n",
              "      <td>Bus Station</td>\n",
              "      <td>Market</td>\n",
              "      <td>Turkish Restaurant</td>\n",
              "      <td>Food</td>\n",
              "      <td>Cricket Ground</td>\n",
              "      <td>Dentist's Office</td>\n",
              "      <td>Department Store</td>\n",
              "      <td>Dessert Shop</td>\n",
              "      <td>Donut Shop</td>\n",
              "      <td>23.8477</td>\n",
              "      <td>90.2587</td>\n",
              "    </tr>\n",
              "    <tr>\n",
              "      <th>31</th>\n",
              "      <td>Savar</td>\n",
              "      <td>Savar</td>\n",
              "      <td>1340</td>\n",
              "      <td>3</td>\n",
              "      <td>Shopping Mall</td>\n",
              "      <td>Bus Station</td>\n",
              "      <td>Market</td>\n",
              "      <td>Turkish Restaurant</td>\n",
              "      <td>Food</td>\n",
              "      <td>Cricket Ground</td>\n",
              "      <td>Dentist's Office</td>\n",
              "      <td>Department Store</td>\n",
              "      <td>Dessert Shop</td>\n",
              "      <td>Donut Shop</td>\n",
              "      <td>23.8477</td>\n",
              "      <td>90.2587</td>\n",
              "    </tr>\n",
              "  </tbody>\n",
              "</table>\n",
              "</div>"
            ],
            "text/plain": [
              "    Thana       Neighborhood Post Code  Cluster Labels 1st Most Common Venue  \\\n",
              "33  Savar      Saver P.A.T.C      1343               3         Shopping Mall   \n",
              "29  Savar       Rajphulbaria      1347               3         Shopping Mall   \n",
              "35  Savar           Shimulia      1345               3         Shopping Mall   \n",
              "32  Savar  Savar Canttonment      1344               3         Shopping Mall   \n",
              "31  Savar              Savar      1340               3         Shopping Mall   \n",
              "\n",
              "   2nd Most Common Venue 3rd Most Common Venue 4th Most Common Venue  \\\n",
              "33           Bus Station                Market    Turkish Restaurant   \n",
              "29           Bus Station                Market    Turkish Restaurant   \n",
              "35           Bus Station                Market    Turkish Restaurant   \n",
              "32           Bus Station                Market    Turkish Restaurant   \n",
              "31           Bus Station                Market    Turkish Restaurant   \n",
              "\n",
              "   5th Most Common Venue 6th Most Common Venue 7th Most Common Venue  \\\n",
              "33                  Food        Cricket Ground      Dentist's Office   \n",
              "29                  Food        Cricket Ground      Dentist's Office   \n",
              "35                  Food        Cricket Ground      Dentist's Office   \n",
              "32                  Food        Cricket Ground      Dentist's Office   \n",
              "31                  Food        Cricket Ground      Dentist's Office   \n",
              "\n",
              "   8th Most Common Venue 9th Most Common Venue 10th Most Common Venue  \\\n",
              "33      Department Store          Dessert Shop             Donut Shop   \n",
              "29      Department Store          Dessert Shop             Donut Shop   \n",
              "35      Department Store          Dessert Shop             Donut Shop   \n",
              "32      Department Store          Dessert Shop             Donut Shop   \n",
              "31      Department Store          Dessert Shop             Donut Shop   \n",
              "\n",
              "   Latitude Longitude  \n",
              "33  23.8477   90.2587  \n",
              "29  23.8477   90.2587  \n",
              "35  23.8477   90.2587  \n",
              "32  23.8477   90.2587  \n",
              "31  23.8477   90.2587  "
            ]
          },
          "metadata": {
            "tags": []
          },
          "execution_count": 186
        }
      ]
    },
    {
      "cell_type": "markdown",
      "metadata": {
        "id": "vI1yzeYj5ML4",
        "colab_type": "text"
      },
      "source": [
        "The Dhamrai thana's Kalampur is a cluster of its own, we can say this is an anomaly. the most common item of kalampur is market, Turkish Resturent and fried chicken joint. "
      ]
    },
    {
      "cell_type": "code",
      "metadata": {
        "id": "nh2H2uaE5bZj",
        "colab_type": "code",
        "colab": {
          "base_uri": "https://localhost:8080/",
          "height": 165
        },
        "outputId": "6641509e-81e1-4461-997b-09d784737645"
      },
      "source": [
        "Cluster_4=Dhaka_clustered[Dhaka_clustered['Cluster Labels']==4]\n",
        "Cluster_4.to_csv('Cluster_4.csv',index=False)\n",
        "Cluster_4"
      ],
      "execution_count": 187,
      "outputs": [
        {
          "output_type": "execute_result",
          "data": {
            "text/html": [
              "<div>\n",
              "<style scoped>\n",
              "    .dataframe tbody tr th:only-of-type {\n",
              "        vertical-align: middle;\n",
              "    }\n",
              "\n",
              "    .dataframe tbody tr th {\n",
              "        vertical-align: top;\n",
              "    }\n",
              "\n",
              "    .dataframe thead th {\n",
              "        text-align: right;\n",
              "    }\n",
              "</style>\n",
              "<table border=\"1\" class=\"dataframe\">\n",
              "  <thead>\n",
              "    <tr style=\"text-align: right;\">\n",
              "      <th></th>\n",
              "      <th>Thana</th>\n",
              "      <th>Neighborhood</th>\n",
              "      <th>Post Code</th>\n",
              "      <th>Cluster Labels</th>\n",
              "      <th>1st Most Common Venue</th>\n",
              "      <th>2nd Most Common Venue</th>\n",
              "      <th>3rd Most Common Venue</th>\n",
              "      <th>4th Most Common Venue</th>\n",
              "      <th>5th Most Common Venue</th>\n",
              "      <th>6th Most Common Venue</th>\n",
              "      <th>7th Most Common Venue</th>\n",
              "      <th>8th Most Common Venue</th>\n",
              "      <th>9th Most Common Venue</th>\n",
              "      <th>10th Most Common Venue</th>\n",
              "      <th>Latitude</th>\n",
              "      <th>Longitude</th>\n",
              "    </tr>\n",
              "  </thead>\n",
              "  <tbody>\n",
              "    <tr>\n",
              "      <th>18</th>\n",
              "      <td>Dhamrai</td>\n",
              "      <td>Kalampur</td>\n",
              "      <td>1351</td>\n",
              "      <td>4</td>\n",
              "      <td>Market</td>\n",
              "      <td>Turkish Restaurant</td>\n",
              "      <td>Fried Chicken Joint</td>\n",
              "      <td>Cricket Ground</td>\n",
              "      <td>Dentist's Office</td>\n",
              "      <td>Department Store</td>\n",
              "      <td>Dessert Shop</td>\n",
              "      <td>Donut Shop</td>\n",
              "      <td>Electronics Store</td>\n",
              "      <td>Farmers Market</td>\n",
              "      <td>23.9202</td>\n",
              "      <td>90.2109</td>\n",
              "    </tr>\n",
              "  </tbody>\n",
              "</table>\n",
              "</div>"
            ],
            "text/plain": [
              "      Thana Neighborhood Post Code  Cluster Labels 1st Most Common Venue  \\\n",
              "18  Dhamrai     Kalampur      1351               4                Market   \n",
              "\n",
              "   2nd Most Common Venue 3rd Most Common Venue 4th Most Common Venue  \\\n",
              "18    Turkish Restaurant   Fried Chicken Joint        Cricket Ground   \n",
              "\n",
              "   5th Most Common Venue 6th Most Common Venue 7th Most Common Venue  \\\n",
              "18      Dentist's Office      Department Store          Dessert Shop   \n",
              "\n",
              "   8th Most Common Venue 9th Most Common Venue 10th Most Common Venue  \\\n",
              "18            Donut Shop     Electronics Store         Farmers Market   \n",
              "\n",
              "   Latitude Longitude  \n",
              "18  23.9202   90.2109  "
            ]
          },
          "metadata": {
            "tags": []
          },
          "execution_count": 187
        }
      ]
    },
    {
      "cell_type": "markdown",
      "metadata": {
        "id": "2oAlqaHttBuH",
        "colab_type": "text"
      },
      "source": [
        "Cluster 5 is a little different it has some of historical site. We call this cluster old dhaka. It consists of Lalbag, Sutrapur, Motijheel and Jatrabari thana. The neighborhoods analyzed are Posta, Gandaria, Dilkusha, Dhania and Bangabhaban. The most common items in this cluster are train station, resturent and historic Site. "
      ]
    },
    {
      "cell_type": "code",
      "metadata": {
        "id": "5KS0EHWQ5xGP",
        "colab_type": "code",
        "colab": {
          "base_uri": "https://localhost:8080/",
          "height": 394
        },
        "outputId": "a1ee82d2-a3cf-4041-ac93-8e97cf0aa909"
      },
      "source": [
        "Cluster_5=Dhaka_clustered[Dhaka_clustered['Cluster Labels']==5]\n",
        "Cluster_5.to_csv('Cluster_5.csv',index=False)\n",
        "Cluster_5.head()"
      ],
      "execution_count": 194,
      "outputs": [
        {
          "output_type": "execute_result",
          "data": {
            "text/html": [
              "<div>\n",
              "<style scoped>\n",
              "    .dataframe tbody tr th:only-of-type {\n",
              "        vertical-align: middle;\n",
              "    }\n",
              "\n",
              "    .dataframe tbody tr th {\n",
              "        vertical-align: top;\n",
              "    }\n",
              "\n",
              "    .dataframe thead th {\n",
              "        text-align: right;\n",
              "    }\n",
              "</style>\n",
              "<table border=\"1\" class=\"dataframe\">\n",
              "  <thead>\n",
              "    <tr style=\"text-align: right;\">\n",
              "      <th></th>\n",
              "      <th>Thana</th>\n",
              "      <th>Neighborhood</th>\n",
              "      <th>Post Code</th>\n",
              "      <th>Cluster Labels</th>\n",
              "      <th>1st Most Common Venue</th>\n",
              "      <th>2nd Most Common Venue</th>\n",
              "      <th>3rd Most Common Venue</th>\n",
              "      <th>4th Most Common Venue</th>\n",
              "      <th>5th Most Common Venue</th>\n",
              "      <th>6th Most Common Venue</th>\n",
              "      <th>7th Most Common Venue</th>\n",
              "      <th>8th Most Common Venue</th>\n",
              "      <th>9th Most Common Venue</th>\n",
              "      <th>10th Most Common Venue</th>\n",
              "      <th>Latitude</th>\n",
              "      <th>Longitude</th>\n",
              "    </tr>\n",
              "  </thead>\n",
              "  <tbody>\n",
              "    <tr>\n",
              "      <th>28</th>\n",
              "      <td>Lalbag</td>\n",
              "      <td>Posta TSO</td>\n",
              "      <td>1211</td>\n",
              "      <td>5</td>\n",
              "      <td>Historic Site</td>\n",
              "      <td>Pizza Place</td>\n",
              "      <td>Restaurant</td>\n",
              "      <td>Asian Restaurant</td>\n",
              "      <td>Turkish Restaurant</td>\n",
              "      <td>Fast Food Restaurant</td>\n",
              "      <td>Cricket Ground</td>\n",
              "      <td>Dentist's Office</td>\n",
              "      <td>Department Store</td>\n",
              "      <td>Dessert Shop</td>\n",
              "      <td>23.7188</td>\n",
              "      <td>90.3882</td>\n",
              "    </tr>\n",
              "    <tr>\n",
              "      <th>13</th>\n",
              "      <td>Sutrapur</td>\n",
              "      <td>Gandaria TSO</td>\n",
              "      <td>1204</td>\n",
              "      <td>5</td>\n",
              "      <td>Train Station</td>\n",
              "      <td>Fast Food Restaurant</td>\n",
              "      <td>Restaurant</td>\n",
              "      <td>Outlet Store</td>\n",
              "      <td>Boat or Ferry</td>\n",
              "      <td>Cricket Ground</td>\n",
              "      <td>Dentist's Office</td>\n",
              "      <td>Department Store</td>\n",
              "      <td>Dessert Shop</td>\n",
              "      <td>Donut Shop</td>\n",
              "      <td>23.6994</td>\n",
              "      <td>90.4242</td>\n",
              "    </tr>\n",
              "    <tr>\n",
              "      <th>11</th>\n",
              "      <td>Motijheel</td>\n",
              "      <td>DilkushaTSO</td>\n",
              "      <td>1223</td>\n",
              "      <td>5</td>\n",
              "      <td>Restaurant</td>\n",
              "      <td>Hotel</td>\n",
              "      <td>Plaza</td>\n",
              "      <td>Soccer Field</td>\n",
              "      <td>Train Station</td>\n",
              "      <td>Fried Chicken Joint</td>\n",
              "      <td>Cosmetics Shop</td>\n",
              "      <td>Clothing Store</td>\n",
              "      <td>Bus Station</td>\n",
              "      <td>Indian Restaurant</td>\n",
              "      <td>23.7266</td>\n",
              "      <td>90.4216</td>\n",
              "    </tr>\n",
              "    <tr>\n",
              "      <th>10</th>\n",
              "      <td>Jatrabari</td>\n",
              "      <td>Dhania TSO</td>\n",
              "      <td>1236</td>\n",
              "      <td>5</td>\n",
              "      <td>Train Station</td>\n",
              "      <td>Intersection</td>\n",
              "      <td>Bus Station</td>\n",
              "      <td>Playground</td>\n",
              "      <td>Food</td>\n",
              "      <td>Cricket Ground</td>\n",
              "      <td>Dentist's Office</td>\n",
              "      <td>Department Store</td>\n",
              "      <td>Dessert Shop</td>\n",
              "      <td>Donut Shop</td>\n",
              "      <td>23.7104</td>\n",
              "      <td>90.4345</td>\n",
              "    </tr>\n",
              "    <tr>\n",
              "      <th>4</th>\n",
              "      <td>Motijheel</td>\n",
              "      <td>BangabhabanTSO</td>\n",
              "      <td>1222</td>\n",
              "      <td>5</td>\n",
              "      <td>Restaurant</td>\n",
              "      <td>Hotel</td>\n",
              "      <td>Plaza</td>\n",
              "      <td>Soccer Field</td>\n",
              "      <td>Train Station</td>\n",
              "      <td>Fried Chicken Joint</td>\n",
              "      <td>Cosmetics Shop</td>\n",
              "      <td>Clothing Store</td>\n",
              "      <td>Bus Station</td>\n",
              "      <td>Indian Restaurant</td>\n",
              "      <td>23.7266</td>\n",
              "      <td>90.4216</td>\n",
              "    </tr>\n",
              "  </tbody>\n",
              "</table>\n",
              "</div>"
            ],
            "text/plain": [
              "        Thana    Neighborhood Post Code  Cluster Labels 1st Most Common Venue  \\\n",
              "28     Lalbag       Posta TSO      1211               5         Historic Site   \n",
              "13   Sutrapur    Gandaria TSO      1204               5         Train Station   \n",
              "11  Motijheel     DilkushaTSO      1223               5            Restaurant   \n",
              "10  Jatrabari      Dhania TSO      1236               5         Train Station   \n",
              "4   Motijheel  BangabhabanTSO      1222               5            Restaurant   \n",
              "\n",
              "   2nd Most Common Venue 3rd Most Common Venue 4th Most Common Venue  \\\n",
              "28           Pizza Place            Restaurant      Asian Restaurant   \n",
              "13  Fast Food Restaurant            Restaurant          Outlet Store   \n",
              "11                 Hotel                 Plaza          Soccer Field   \n",
              "10          Intersection           Bus Station            Playground   \n",
              "4                  Hotel                 Plaza          Soccer Field   \n",
              "\n",
              "   5th Most Common Venue 6th Most Common Venue 7th Most Common Venue  \\\n",
              "28    Turkish Restaurant  Fast Food Restaurant        Cricket Ground   \n",
              "13         Boat or Ferry        Cricket Ground      Dentist's Office   \n",
              "11         Train Station   Fried Chicken Joint        Cosmetics Shop   \n",
              "10                  Food        Cricket Ground      Dentist's Office   \n",
              "4          Train Station   Fried Chicken Joint        Cosmetics Shop   \n",
              "\n",
              "   8th Most Common Venue 9th Most Common Venue 10th Most Common Venue  \\\n",
              "28      Dentist's Office      Department Store           Dessert Shop   \n",
              "13      Department Store          Dessert Shop             Donut Shop   \n",
              "11        Clothing Store           Bus Station      Indian Restaurant   \n",
              "10      Department Store          Dessert Shop             Donut Shop   \n",
              "4         Clothing Store           Bus Station      Indian Restaurant   \n",
              "\n",
              "   Latitude Longitude  \n",
              "28  23.7188   90.3882  \n",
              "13  23.6994   90.4242  \n",
              "11  23.7266   90.4216  \n",
              "10  23.7104   90.4345  \n",
              "4   23.7266   90.4216  "
            ]
          },
          "metadata": {
            "tags": []
          },
          "execution_count": 194
        }
      ]
    },
    {
      "cell_type": "markdown",
      "metadata": {
        "id": "wHbZMJ6I65Q5",
        "colab_type": "text"
      },
      "source": [
        "Cluster 6 has two neighborhoods and they are both from sutrapur thana, they are Dhaka sadar and wari. the most common item in this cluster in food resturent."
      ]
    },
    {
      "cell_type": "code",
      "metadata": {
        "id": "ok8NciRB7Ao6",
        "colab_type": "code",
        "colab": {
          "base_uri": "https://localhost:8080/",
          "height": 230
        },
        "outputId": "6947ed29-901c-4f14-bb0e-aabae274151e"
      },
      "source": [
        "Cluster_6=Dhaka_clustered[Dhaka_clustered['Cluster Labels']==6]\n",
        "Cluster_6.to_csv('Cluster_6.csv',index=False)\n",
        "Cluster_6"
      ],
      "execution_count": 195,
      "outputs": [
        {
          "output_type": "execute_result",
          "data": {
            "text/html": [
              "<div>\n",
              "<style scoped>\n",
              "    .dataframe tbody tr th:only-of-type {\n",
              "        vertical-align: middle;\n",
              "    }\n",
              "\n",
              "    .dataframe tbody tr th {\n",
              "        vertical-align: top;\n",
              "    }\n",
              "\n",
              "    .dataframe thead th {\n",
              "        text-align: right;\n",
              "    }\n",
              "</style>\n",
              "<table border=\"1\" class=\"dataframe\">\n",
              "  <thead>\n",
              "    <tr style=\"text-align: right;\">\n",
              "      <th></th>\n",
              "      <th>Thana</th>\n",
              "      <th>Neighborhood</th>\n",
              "      <th>Post Code</th>\n",
              "      <th>Cluster Labels</th>\n",
              "      <th>1st Most Common Venue</th>\n",
              "      <th>2nd Most Common Venue</th>\n",
              "      <th>3rd Most Common Venue</th>\n",
              "      <th>4th Most Common Venue</th>\n",
              "      <th>5th Most Common Venue</th>\n",
              "      <th>6th Most Common Venue</th>\n",
              "      <th>7th Most Common Venue</th>\n",
              "      <th>8th Most Common Venue</th>\n",
              "      <th>9th Most Common Venue</th>\n",
              "      <th>10th Most Common Venue</th>\n",
              "      <th>Latitude</th>\n",
              "      <th>Longitude</th>\n",
              "    </tr>\n",
              "  </thead>\n",
              "  <tbody>\n",
              "    <tr>\n",
              "      <th>9</th>\n",
              "      <td>Sutrapur</td>\n",
              "      <td>Dhaka Sadar HO</td>\n",
              "      <td>1100</td>\n",
              "      <td>6</td>\n",
              "      <td>Comfort Food Restaurant</td>\n",
              "      <td>Asian Restaurant</td>\n",
              "      <td>Turkish Restaurant</td>\n",
              "      <td>Fried Chicken Joint</td>\n",
              "      <td>Dentist's Office</td>\n",
              "      <td>Department Store</td>\n",
              "      <td>Dessert Shop</td>\n",
              "      <td>Donut Shop</td>\n",
              "      <td>Electronics Store</td>\n",
              "      <td>Farmers Market</td>\n",
              "      <td>24.0799</td>\n",
              "      <td>90.1866</td>\n",
              "    </tr>\n",
              "    <tr>\n",
              "      <th>38</th>\n",
              "      <td>Sutrapur</td>\n",
              "      <td>Wari TSO</td>\n",
              "      <td>1203</td>\n",
              "      <td>6</td>\n",
              "      <td>Comfort Food Restaurant</td>\n",
              "      <td>Asian Restaurant</td>\n",
              "      <td>Turkish Restaurant</td>\n",
              "      <td>Fried Chicken Joint</td>\n",
              "      <td>Dentist's Office</td>\n",
              "      <td>Department Store</td>\n",
              "      <td>Dessert Shop</td>\n",
              "      <td>Donut Shop</td>\n",
              "      <td>Electronics Store</td>\n",
              "      <td>Farmers Market</td>\n",
              "      <td>24.0799</td>\n",
              "      <td>90.1866</td>\n",
              "    </tr>\n",
              "  </tbody>\n",
              "</table>\n",
              "</div>"
            ],
            "text/plain": [
              "       Thana    Neighborhood Post Code  Cluster Labels  \\\n",
              "9   Sutrapur  Dhaka Sadar HO      1100               6   \n",
              "38  Sutrapur        Wari TSO      1203               6   \n",
              "\n",
              "      1st Most Common Venue 2nd Most Common Venue 3rd Most Common Venue  \\\n",
              "9   Comfort Food Restaurant      Asian Restaurant    Turkish Restaurant   \n",
              "38  Comfort Food Restaurant      Asian Restaurant    Turkish Restaurant   \n",
              "\n",
              "   4th Most Common Venue 5th Most Common Venue 6th Most Common Venue  \\\n",
              "9    Fried Chicken Joint      Dentist's Office      Department Store   \n",
              "38   Fried Chicken Joint      Dentist's Office      Department Store   \n",
              "\n",
              "   7th Most Common Venue 8th Most Common Venue 9th Most Common Venue  \\\n",
              "9           Dessert Shop            Donut Shop     Electronics Store   \n",
              "38          Dessert Shop            Donut Shop     Electronics Store   \n",
              "\n",
              "   10th Most Common Venue Latitude Longitude  \n",
              "9          Farmers Market  24.0799   90.1866  \n",
              "38         Farmers Market  24.0799   90.1866  "
            ]
          },
          "metadata": {
            "tags": []
          },
          "execution_count": 195
        }
      ]
    },
    {
      "cell_type": "markdown",
      "metadata": {
        "id": "ogCT-xEy7SQe",
        "colab_type": "text"
      },
      "source": [
        ""
      ]
    },
    {
      "cell_type": "markdown",
      "metadata": {
        "id": "zfKVSQOgG68G",
        "colab_type": "text"
      },
      "source": [
        "## Results and Discussion <a name=\"results\"></a>"
      ]
    },
    {
      "cell_type": "markdown",
      "metadata": {
        "id": "MhpQFVF1G68G",
        "colab_type": "text"
      },
      "source": [
        "Our analysis shows clusters of the similer locations in Dhaka bangladesh. based on their distinctive venue categories. We have used 1000 maxim iterations for the k mean algorithm and the SSE is bellow 1. So we can say that the clusters are of accepctable accuracy.\n",
        "\n",
        "some clusters have values everything in common. this maybe possible due to having same lattitude and lognitude or the range is high. so the forsquare api listed same items and they were sorted into same cluster. This project doesn't show any visualization maybe in future I will learn more and create more promising projects to show case."
      ]
    },
    {
      "cell_type": "markdown",
      "metadata": {
        "id": "Vk_MBeRlG68H",
        "colab_type": "text"
      },
      "source": [
        "## Conclusion <a name=\"conclusion\"></a>"
      ]
    },
    {
      "cell_type": "markdown",
      "metadata": {
        "id": "vHWcC3KVG68H",
        "colab_type": "text"
      },
      "source": [
        "the perpose of this project was to do everything a data scientist does everyday in his life. The project gives enough opportunity to lean and exercise exciting new things. though this project is not impactful enough, it is a start. I want to thank IBM and Coursera to bring such a good course for learnign data science."
      ]
    }
  ]
}